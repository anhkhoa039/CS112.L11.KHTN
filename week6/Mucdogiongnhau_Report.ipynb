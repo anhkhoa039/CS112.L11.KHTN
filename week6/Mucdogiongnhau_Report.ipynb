{
  "nbformat": 4,
  "nbformat_minor": 0,
  "metadata": {
    "colab": {
      "name": "Mucdogiongnhau_Report.ipynb",
      "provenance": [],
      "include_colab_link": true
    },
    "kernelspec": {
      "name": "python3",
      "display_name": "Python 3"
    }
  },
  "cells": [
    {
      "cell_type": "markdown",
      "metadata": {
        "id": "view-in-github",
        "colab_type": "text"
      },
      "source": [
        "<a href=\"https://colab.research.google.com/github/anhkhoa039/CS112.L11.KHTN/blob/master/week6/Mucdogiongnhau_Report.ipynb\" target=\"_parent\"><img src=\"https://colab.research.google.com/assets/colab-badge.svg\" alt=\"Open In Colab\"/></a>"
      ]
    },
    {
      "cell_type": "markdown",
      "metadata": {
        "id": "cMJ1VvgubqYw"
      },
      "source": [
        "# **Nhóm:    N010**\n",
        "# Thành viên:\n",
        "### *Võ Quốc An - 18520440*\n",
        "### *Nguyễn Anh Khoa - 18520923*\n",
        "### *Trần Thị Phương Thảo - 18521422*"
      ]
    },
    {
      "cell_type": "markdown",
      "metadata": {
        "id": "QJtvuaQAb7x6"
      },
      "source": [
        "# **MỨC ĐỘ GIỐNG NHHAU (0.2s, 50MB)** \n",
        "Một quần thể sinh vật ngoài hành tinh có gene tạo thành từ 26 cơ sở ký hiệu từ **A** tới **Z**. Mỗi gene là một xâu ký tự các chữ cái la tinh hoa. Hai cá thể khác nhau có gene khác nhau. Mức độ giống nhau của 2 gene sẽ xác định độ huyết thống của chúng.\n",
        "\n",
        "Độ giống nhau của gene thứ nhất đối với gene thứ 2 là số lượng cặp 2 cơ sở liên tiếp nhau trong gene thứ nhất đồng thời là cặp 2 cơ sở liên tiếp nhau trong gene thứ hai.\n",
        "\n",
        "<img src= \"https://i.imgur.com/8Bzl48g.png\" class = \"center\" width = 400/>\n",
        "\n",
        "\n",
        "Ví dụ, gene thứ nhất là **ABBACAB**, gene thứ 2 là **BCABB** thì mức độ giống nhau là 4.\n",
        "\n",
        " \n",
        "\n",
        "Cho hai gene. Hãy xác định mức độ giống nhau của gene thứ nhất với gene thứ 2.\n",
        "\n",
        "**Dữ liệu**: Vào từ thiết bị nhập chuẩn bao gồm 2 dòng chứa 2 xâu khác rỗng xác định gene thứ nhất và gene thứ 2, mỗi xâu chỉ chứa các ký tự chữ cái in hoa và có độ dài không quá 10^5.  \n",
        "\n",
        "\n",
        "**Kết quả**: Đưa ra thiết bị xuất chuẩn một số nguyên – mức độ giống nhau của 2 genes.  \n",
        "\n",
        "**Ví dụ:**  \n",
        "\n",
        "|INPUT   |OUTPUT|\n",
        "|--------|------|\n",
        "|ABBACAB |4     |\n",
        "|BCABB   |      |\n"
      ]
    },
    {
      "cell_type": "markdown",
      "metadata": {
        "id": "inr7FkEdfYYb"
      },
      "source": [
        "##**1. Abstraction:** \n",
        "Tìm số cặp 2 kí tự liên tiếp giống nhau của chuỗi A so với chuỗi B\n",
        "\n",
        "##**2-3. Decomposition & Pattern Recognition:**  \n",
        "Ý tưởng: Tìm tập 2 kí tự liên tiếp của chuỗi B. Sau đó duyệt chuỗi A và kiểm tra 2 ký tự liên tiếp của A có trong tập vừa tìm được hay không? \n",
        "\n",
        "Nếu có thì: $count + 1$\n",
        "## **4. Algorithm designed:**\n"
      ]
    },
    {
      "cell_type": "code",
      "metadata": {
        "id": "HpiRWAPoatUQ",
        "colab": {
          "base_uri": "https://localhost:8080/"
        },
        "outputId": "fea77252-b057-460e-9e88-6aea81e1e6bf"
      },
      "source": [
        "s1 = input()\n",
        "s2= input()\n",
        "dic = {}\n",
        "count = 0\n",
        "\n",
        "for i in range (len(s2) -1):\n",
        "    x= s2[i:i+2]\n",
        "    try :\n",
        "        dic[x] += 1\n",
        "    except:\n",
        "        dic[x] = 1\n",
        "for i in range (len (s1) -1):\n",
        "    x = s1[i:i+2]\n",
        "\n",
        "    if x  in dic:\n",
        "        count += 1\n",
        "print (count)"
      ],
      "execution_count": null,
      "outputs": [
        {
          "output_type": "stream",
          "text": [
            "ABBACAB\n",
            "BCABB\n",
            "4\n"
          ],
          "name": "stdout"
        }
      ]
    },
    {
      "cell_type": "markdown",
      "metadata": {
        "id": "bf7_b5kAIRRS"
      },
      "source": [
        "**RESULT**\r\n",
        "\r\n",
        "<img src= \"https://i.imgur.com/nBJesco.png\" class = \"center\" width = 1200/>"
      ]
    }
  ]
}