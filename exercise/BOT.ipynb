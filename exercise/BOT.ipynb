{
  "nbformat": 4,
  "nbformat_minor": 0,
  "metadata": {
    "colab": {
      "name": "BOT.ipynb",
      "provenance": [],
      "collapsed_sections": [],
      "authorship_tag": "ABX9TyOzWkdxOxIGUFYOZlGmkeJ0",
      "include_colab_link": true
    },
    "kernelspec": {
      "name": "python3",
      "display_name": "Python 3"
    }
  },
  "cells": [
    {
      "cell_type": "markdown",
      "metadata": {
        "id": "view-in-github",
        "colab_type": "text"
      },
      "source": [
        "<a href=\"https://colab.research.google.com/github/anhkhoa039/CS112.L11.KHTN/blob/master/exercise/BOT.ipynb\" target=\"_parent\"><img src=\"https://colab.research.google.com/assets/colab-badge.svg\" alt=\"Open In Colab\"/></a>"
      ]
    },
    {
      "cell_type": "code",
      "metadata": {
        "id": "EFjW_Wa5uuAK",
        "colab_type": "code",
        "colab": {}
      },
      "source": [
        ""
      ],
      "execution_count": null,
      "outputs": []
    },
    {
      "cell_type": "markdown",
      "metadata": {
        "id": "opPygPtkwsBP",
        "colab_type": "text"
      },
      "source": [
        "## BOT\n",
        "\n",
        "- Abtraction: input đầu vào 1 mảng số nguyên n phần tử, tìm dãy con liên tục có tổng giá trị các phần tử lớn nhất  \n",
        "- Pattern Recognition:\n",
        "- Algorithm designed:"
      ]
    },
    {
      "cell_type": "code",
      "metadata": {
        "id": "BQe2FhIpxVlY",
        "colab_type": "code",
        "colab": {}
      },
      "source": [
        ""
      ],
      "execution_count": null,
      "outputs": []
    }
  ]
}