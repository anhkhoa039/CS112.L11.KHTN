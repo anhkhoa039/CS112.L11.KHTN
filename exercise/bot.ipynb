{
  "nbformat": 4,
  "nbformat_minor": 0,
  "metadata": {
    "colab": {
      "name": "bot.ipynb",
      "provenance": [],
      "toc_visible": true
    },
    "kernelspec": {
      "name": "python3",
      "display_name": "Python 3"
    }
  },
  "cells": [
    {
      "cell_type": "markdown",
      "metadata": {
        "id": "oPlrzYJk0LkU",
        "colab_type": "text"
      },
      "source": [
        "##BOT\n",
        "###1.\tAbstraction: phát biểu lại bài toán chỉ bằng 1 câu\n",
        "Cho một dãy gồm n số nguyên a1, a2, …, an, tìm một đoạn con (dãy gồm các phần tử liên tiếp nhau) có tổng lớn nhất.\n",
        "###2.\tPattern Recognition: tên dạng bài toán/kỹ thuật được áp dụng\n",
        "Quy hoạch động\n",
        "###3.\tAlgorithm designed: thuật toán để giải quyết bài toán (trình bày bằng mã giả) \n",
        "\n"
      ]
    },
    {
      "cell_type": "code",
      "metadata": {
        "id": "gzw7ynQ50GRz",
        "colab_type": "code",
        "colab": {}
      },
      "source": [
        "# Mã giả\n",
        "input() nhập n\n",
        "input() dãy số nguyên a cách nhau bở dấu \" \"\n",
        "\n",
        "Gán giá trị cho Tổng mảng con lớn nhất ban đầu là giá trị cực nhỏ (maxsum = -10000000000000000)\n",
        "Tổng mảng con ban đầu bằng 0 (sum = 0)\n",
        "Vị trí đầu tiên của mảng (p = 1)\n",
        "\n",
        "Sử dụng vòng lặp for duyệt từng phần tử của a:\n",
        "\t  i chạy từ 0 -> n - 1\n",
        "\t  sum = sum + a[i]\n",
        "    if sum < 0 (mảng con có tổng âm) thì \n",
        "          đưa sum về 0 (bắt đầu tính lại tổng mảng con mới)\n",
        "          thay đổi vị trí bắt đầu mảng con mới là vị trí tiếp theo trong a: p = i + 2\n",
        "\t  if maxsum < sum (tổng mảng con lớn nhất cũ nhỏ hơn tổng mảng con vừa tính) thì:\n",
        "          maxsum = sum\n",
        "          vị trí bắt đầu mảng con = p\n",
        "          vị trí kết thúc mảng con = i + 1\n",
        "\n",
        "print(vị trí bất đầu, vị trí kết thúc, tổng lớn nhất của mảng con) "
      ],
      "execution_count": null,
      "outputs": []
    },
    {
      "cell_type": "markdown",
      "metadata": {
        "id": "Oy8XXVss2erc",
        "colab_type": "text"
      },
      "source": [
        "4.\tProgramming: cài đặt chương trình bằng NNLT Python\n",
        "https://github.com/anhkhoa039/CS112.L11.KHTN/blob/master/exercise/bot.py"
      ]
    },
    {
      "cell_type": "code",
      "metadata": {
        "id": "JcU40g3t2gDS",
        "colab_type": "code",
        "colab": {}
      },
      "source": [
        "def BOT():\n",
        "    n = int(input())\n",
        "    a = [int(x) for x in input().split(\" \")]\n",
        "    maxsum = -1000000000000000000\n",
        "    sum = 0\n",
        "    p = 1\n",
        "    for i in range(0, n):\n",
        "        sum += a[i]\n",
        "        if (sum < 0):\n",
        "            sum = 0\n",
        "            p = i + 2\n",
        "        if(maxsum < sum):\n",
        "            maxsum = sum\n",
        "            star = p\n",
        "            end = i + 1\n",
        "    print(star,end,maxsum,end=' ')\n",
        "BOT()"
      ],
      "execution_count": null,
      "outputs": []
    }
  ]
}