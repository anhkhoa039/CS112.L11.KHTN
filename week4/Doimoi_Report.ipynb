{
  "nbformat": 4,
  "nbformat_minor": 0,
  "metadata": {
    "colab": {
      "name": "Doimoi_Report.ipynb",
      "provenance": [],
      "authorship_tag": "ABX9TyM9alonWwIZh5B631xb4z0r",
      "include_colab_link": true
    },
    "kernelspec": {
      "name": "python3",
      "display_name": "Python 3"
    }
  },
  "cells": [
    {
      "cell_type": "markdown",
      "metadata": {
        "id": "view-in-github",
        "colab_type": "text"
      },
      "source": [
        "<a href=\"https://colab.research.google.com/github/anhkhoa039/CS112.L11.KHTN/blob/master/week4/Doimoi_Report.ipynb\" target=\"_parent\"><img src=\"https://colab.research.google.com/assets/colab-badge.svg\" alt=\"Open In Colab\"/></a>"
      ]
    },
    {
      "cell_type": "markdown",
      "metadata": {
        "id": "TB9lziJqMq0i"
      },
      "source": [
        "# **Nhóm:    N010**\n",
        "# Thành viên:\n",
        "### *Nguyễn Anh Khoa - 18520923*\n",
        "### *Võ Quốc An - 18520440*\n",
        "### *Trần Thị Phương Thảo - 18521422*"
      ]
    },
    {
      "cell_type": "markdown",
      "metadata": {
        "id": "VVqCVsADMwiy"
      },
      "source": [
        "#**ĐỔI MỚI**\n",
        "\n",
        "Thành phố quyết định chặt hạ hết **n** cây xanh hiện có trong thành phố để trồng chỉ một loại cây mới. Nhiệm vụ được giao cho Công ty Cây xanh thành phố. Do hạn chế về thiết bị Công ty chỉ tổ chức được 2 đội đốn hạ cây. Đội **I** hạ được **a** cây mỗi ngày, nhưng cứ mối ngày thứ **k** thì phải nghỉ để bảo dưỡng kỹ thuật, tức là đội **I** sẽ nghỉ vào các ngày **k, 2k, 3k, . . .** Đội **II** hạ được **b** cây mỗi ngày, nhưng cứ mỗi ngày thứ **m** thì phải nghỉ để bảo dưỡng kỹ thuật, tức là đội **II** sẽ nghỉ vào các ngày **m, 2m, 3m, . . .** Ở ngày nghỉ, số cây chặt hạ của đội sẽ là 0. Cả hai đội bắt đầu công việc vào cùng một ngày và làm việc song song với nhau.\n",
        "\n",
        "Công việc trồng cây mới sẽ bắt đầu sau khi toàn bộ cây cũ đã bị đốn hạ.\n",
        "\n",
        "Hãy xác định sau bao nhiêu ngày thì có thể bắt đầu việc trồng mới cây.\n",
        "\n",
        "Dữ liệu: Vào từ thiết bị nhập chuẩn gồm một dòng chứa 5 số nguyên **a, k, b, m** và **n** (1 ≤ **a, b** ≤ 109, 2 ≤ **k, m** ≤ 1018, 1 ≤ **n** ≤ 1018).\n",
        "\n",
        "Kết quả: Đưa ra thiết bị xuất chuẩn một số nguyên – số ngày tính được.\n",
        "\n",
        "**Ví dụ:**\n",
        "  \n",
        "| Input         | Output        |  \n",
        "| ------------- |:-------------:|  \n",
        "| 2 4 3 3 25    |   7            |  \n",
        "\n"
      ]
    },
    {
      "cell_type": "markdown",
      "metadata": {
        "id": "afgL1pSCO9iv"
      },
      "source": [
        "\n",
        "####**1. Abstraction:** Cho mảng chứa **n** số nguyên $c_{1}, c_{2}, c_{3},... c_{n}$, tìm số k lớn nhất sao cho có k phần tử có giá trị lớn hơn hoặc bằng k   \n",
        "####**2-3. Decomposition & Pattern Recognition:**  \n",
        "\n",
        "####**4. Algorithm designed:**  \n",
        "**Pseudo Code**  \n",
        "```python\n",
        "a, k, b, m ,n :int\n",
        "\n",
        "function:\n",
        "def check(x):\n",
        "  return a * (x - x // k) + b * (x - x // m) >= n\n",
        "\n",
        "res, low, high = -1, 1, 1e18\n",
        "loop:\n",
        "while low <= high:\n",
        "  mid <- (low + high) // 2\n",
        "  if check(mid):\n",
        "    res = mid\n",
        "    high = mid -1\n",
        "  else:\n",
        "    low = mid + 1\n",
        "print(res)\n",
        "```\n",
        "\n",
        "#### **CODE:**"
      ]
    },
    {
      "cell_type": "code",
      "metadata": {
        "id": "eKeMYD2MPRHX",
        "outputId": "f2292948-9919-4dc1-d8ca-920ed44c5028",
        "colab": {
          "base_uri": "https://localhost:8080/",
          "height": 50
        }
      },
      "source": [
        "a, k, b, m, n = map(int, input().split())\n",
        "\n",
        "\n",
        "def check(x):\n",
        "    return a * (x - x // k) + b * (x - x // m) >= n\n",
        "\n",
        "\n",
        "res = -1\n",
        "low = 1\n",
        "high = int(1e18)\n",
        "\n",
        "while low <= high:\n",
        "    mid = (low + high) // 2\n",
        "    if check(mid):\n",
        "        res = mid\n",
        "        high = mid - 1\n",
        "    else:\n",
        "        low = mid + 1\n",
        "print(res)"
      ],
      "execution_count": null,
      "outputs": [
        {
          "output_type": "stream",
          "text": [
            "2 4 3 3 25\n",
            "7\n"
          ],
          "name": "stdout"
        }
      ]
    }
  ]
}