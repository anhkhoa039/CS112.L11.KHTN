{
  "nbformat": 4,
  "nbformat_minor": 0,
  "metadata": {
    "colab": {
      "name": "Untitled4.ipynb",
      "provenance": [],
      "authorship_tag": "ABX9TyMykeN9zrF2Mo/gEHHkLCzo",
      "include_colab_link": true
    },
    "kernelspec": {
      "name": "python3",
      "display_name": "Python 3"
    }
  },
  "cells": [
    {
      "cell_type": "markdown",
      "metadata": {
        "id": "view-in-github",
        "colab_type": "text"
      },
      "source": [
        "<a href=\"https://colab.research.google.com/github/anhkhoa039/CS112.L11.KHTN/blob/master/week4/doi_moi.ipynb\" target=\"_parent\"><img src=\"https://colab.research.google.com/assets/colab-badge.svg\" alt=\"Open In Colab\"/></a>"
      ]
    },
    {
      "cell_type": "code",
      "metadata": {
        "id": "wyXKjOkCI6oW",
        "outputId": "863f8930-7904-40a6-ec24-178f5b7e79c0",
        "colab": {
          "base_uri": "https://localhost:8080/",
          "height": 50
        }
      },
      "source": [
        "a, k, b, m, n = map(int, input().split())\n",
        "\n",
        "\n",
        "def check(x):\n",
        "    return a * (x - x // k) + b * (x - x // m) >= n\n",
        "\n",
        "\n",
        "res = -1\n",
        "low = 1\n",
        "high = int(1e18)\n",
        "\n",
        "while low <= high:\n",
        "    mid = (low + high) // 2\n",
        "    if check(mid):\n",
        "        res = mid\n",
        "        high = mid - 1\n",
        "    else:\n",
        "        low = mid + 1\n",
        "print(res)"
      ],
      "execution_count": 1,
      "outputs": [
        {
          "output_type": "stream",
          "text": [
            "2 4 3 3 25 \n",
            "7\n"
          ],
          "name": "stdout"
        }
      ]
    }
  ]
}