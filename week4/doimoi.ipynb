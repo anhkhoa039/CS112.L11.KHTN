{
  "nbformat": 4,
  "nbformat_minor": 0,
  "metadata": {
    "colab": {
      "name": "doimoi.ipynb",
      "provenance": [],
      "authorship_tag": "ABX9TyPhWakeosjl0FRFgnTB9F9S",
      "include_colab_link": true
    },
    "kernelspec": {
      "name": "python3",
      "display_name": "Python 3"
    }
  },
  "cells": [
    {
      "cell_type": "markdown",
      "metadata": {
        "id": "view-in-github",
        "colab_type": "text"
      },
      "source": [
        "<a href=\"https://colab.research.google.com/github/anhkhoa039/CS112.L11.KHTN/blob/master/week4/doimoi.ipynb\" target=\"_parent\"><img src=\"https://colab.research.google.com/assets/colab-badge.svg\" alt=\"Open In Colab\"/></a>"
      ]
    },
    {
      "cell_type": "code",
      "metadata": {
        "id": "HvA0ksBBXS_0"
      },
      "source": [
        ""
      ],
      "execution_count": null,
      "outputs": []
    },
    {
      "cell_type": "markdown",
      "metadata": {
        "id": "c4pbKQf0XXuu"
      },
      "source": [
        "## **Nhóm 10**\n",
        "### ***Nguyễn Anh Khoa - 18520923***\n",
        "### ***Võ Quốc An - 18520440***\n",
        "### ***Trần Thị Phương Thảo - 18521422***"
      ]
    },
    {
      "cell_type": "code",
      "metadata": {
        "id": "jtU4mg_DXYOC"
      },
      "source": [
        ""
      ],
      "execution_count": null,
      "outputs": []
    },
    {
      "cell_type": "markdown",
      "metadata": {
        "id": "s7nBDo56XY3G"
      },
      "source": [
        "## **ĐỔi MỚI**\n",
        "\n",
        "\n",
        "# Ví dụ:    \n",
        "| Input         | Output        |  \n",
        "| ------------- |:-------------:|  \n",
        "| 5             |               |  \n",
        "| 8 5 3 4 10    |  4            |  \n",
        "\n",
        "\n",
        "####**1. Abstraction:** Cho mảng chứa **n** số nguyên $c_{1}, c_{2}, c_{3},... c_{n}$, tìm số k lớn nhất sao cho có k phần tử có giá trị lớn hơn hoặc bằng k   \n",
        "####**2-3. Decomposition & Pattern Recognition:**  \n",
        "\n",
        "####**4. Algorithm designed:**  \n",
        "**Pseudo Code**  \n",
        "```python\n",
        "\n",
        "\n",
        "```\n",
        "\n",
        "#### **CODE:**\n",
        "\n"
      ]
    }
  ]
}