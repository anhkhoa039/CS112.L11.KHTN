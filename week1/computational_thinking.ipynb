{
  "nbformat": 4,
  "nbformat_minor": 0,
  "metadata": {
    "colab": {
      "name": "computational_thinking.ipynb",
      "provenance": [],
      "collapsed_sections": [],
      "authorship_tag": "ABX9TyNPZqdXrfAIWvTkay/9CH67",
      "include_colab_link": true
    },
    "kernelspec": {
      "name": "python3",
      "display_name": "Python 3"
    }
  },
  "cells": [
    {
      "cell_type": "markdown",
      "metadata": {
        "id": "view-in-github",
        "colab_type": "text"
      },
      "source": [
        "<a href=\"https://colab.research.google.com/github/anhkhoa039/CS112.L11.KHTN/blob/master/week1/computational_thinking.ipynb\" target=\"_parent\"><img src=\"https://colab.research.google.com/assets/colab-badge.svg\" alt=\"Open In Colab\"/></a>"
      ]
    },
    {
      "cell_type": "markdown",
      "metadata": {
        "id": "opPygPtkwsBP",
        "colab_type": "text"
      },
      "source": [
        "##COMPUTATIONAL THINKING \n",
        "--- \n",
        ">__Computational thinking__ là một kĩ năng giải quyết vấn đề, là nhìn vào vấn đề và giải quyết nó một cách có hệ thống để con người và máy tính có thể hiểu được  \n",
        "\n",
        ">Thuật ngữ __computational thinking__ được sử dụng đầu tiên vào năm 1980 bởi 1 nhà khoa học máy tính \n",
        "\n",
        "Máy tính giúp chúng ta giải quyết vấn đề, nhưng trước tiên cần hiểu rõ vấn đề và cách thức giải quyết vấn đề. __Computational thinking__ giúp chúng ta làm điều này\n",
        "    __computational thinking__ giúp chúng ta giải quyết một vấn đề phức tạp, hiểu vấn đề là gì và đưa ra giải pháp khả thi, sau đó trình bày theo cách mà con người và máy tính có thể hiểu được, tìm ra được những yêu cầu mà máy tính có thể làm\n",
        "\n",
        "    Computational thinking không chỉ là kĩ năng cần thiết cho một computer scientists mà là kĩ năng cần có đối với mỗi người\n",
        "\n",
        "4 kĩ thuật của __Computational thinking__: phân tích, khuôn mẫu, trừu tượng và thuật toán có thể biến 1 vấn đề phức tạp thành 1 vấn đề dễ dàng hiểu rõ\n",
        "\n"
      ]
    },
    {
      "cell_type": "markdown",
      "metadata": {
        "id": "0n4rJORn8fs7",
        "colab_type": "text"
      },
      "source": [
        "## 4 KĨ THUẬT CỦA COMPUTATIONAL THINKING"
      ]
    },
    {
      "cell_type": "markdown",
      "metadata": {
        "id": "jKc3rxn9nA9s",
        "colab_type": "text"
      },
      "source": [
        "**1. Decompose(phân rã):**\n",
        "\n",
        "Chia nhỏ vấn đề thành những vấn đề dễ giải quyết hơn\n",
        "\n",
        "**2. Pattern recognization(nhận dạng mẫu):**\n",
        "\n",
        "Những vấn đề thường đa dạng và khác nhau nhưng trong những khác biệt đó vẫn có những điểm giống nhau. Nhận dạng mẫu là nhìn ra những điểm tương đồng với những vấn đề đã giải quyết trước đó để tìm ra giải pháp cho vấn đề trước mắt\n",
        "\n",
        "**3. Abtraction(trừu tượng):**\n",
        "\n",
        "Chọn ra những chi tiết quan trọng bỏ qua những thông tin dư thừa\n",
        "\n",
        "**4. Algorithm(thuật toán):**\n",
        "\n",
        "Các bước để giải quyết vấn đề"
      ]
    },
    {
      "cell_type": "markdown",
      "metadata": {
        "id": "Wt6H0QFO9kFI",
        "colab_type": "text"
      },
      "source": [
        "## ỨNG DỤNG COMPUTATIONAL THINKING"
      ]
    },
    {
      "cell_type": "markdown",
      "metadata": {
        "id": "XvlIzZxP9kNX",
        "colab_type": "text"
      },
      "source": [
        "####Đặt vấn đề: Tìm nghiệm của phương trình bậc 2:\n",
        "\n",
        "    (2x^2 - 6x + 4) * (x – 3) * (x^2 + 1) = 0\n",
        "\n",
        "Phân rã:  \n",
        "\n",
        "Chia bài toán thành các phần nhỏ hơn, dễ xử lý hơn  \n",
        "\n",
        "Ta có: (2x^2 - 6x + 4) * (x – 3) * (x^2 + 1) = 0\n",
        "\n",
        "Tương đương: 2x^2 - 6x + 4 = 0 or x – 3 = 0 or x^2 + 1 = 0\n",
        "\n",
        "Nhận dạng mẫu:\n",
        "\n",
        "Ta thấy: \n",
        "\n",
        "    2x^2 - 6x + 4 = 0 là phương trình bậc 2\n",
        "\n",
        "\tx – 3 = 0 là phương trình bặc 1\n",
        "\n",
        "\tx^2 + 1 = 0 là phương trình bậc 2 \n",
        "\n",
        "Trừu tượng:\n",
        "\n",
        "Ta chỉ tập trung vào tìm nghiệm của 2 phương trình 2x^2 - 6x + 4 = 0 và x – 3 = 0. Bỏ qua việc tìm nghiệm của phương trình x^2 + 1 = 0 vì x^2 + 1 luôn lớn 0 với mọi x.\n",
        "\n",
        "Thuật toán: \n",
        "\n",
        "Áp dụng các bước giải của từng phương trình để tìm ra nghiệm riêng của phương trình.\n",
        "\n",
        "\tGiải phương trình bậc 2: 2x^2 - 6x + 4 = 0\n",
        "\n",
        "\t\tΔ= b^2 – 4ac = (-6)2 – 4*2*4 = 4\n",
        "\n",
        "\t\tΔ ≥ 0 => phương trình có 2 nghiệm x1, x2\n",
        "\n",
        "x1 = (−b+√Δ)/ 2a = ( -(-6) + √4) / (2*2) = 2\n",
        "\n",
        "x2 = (−b-√Δ)/ 2a = ( -(-6) - √4) / (2*2) = 1\n",
        "\n",
        "    Giải phương trình bậc 1: x – 3 = 0\n",
        "    \n",
        "x = -b/a = -(-3)/1 = 3\n",
        "\n",
        "Nghiệm của phương trình chính là nghiệm của 2 phương trình 2x2 - 6x + 4 = 0 và x – 3 = 0\n",
        "\n"
      ]
    }
  ]
}