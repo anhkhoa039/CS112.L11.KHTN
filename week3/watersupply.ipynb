{
  "nbformat": 4,
  "nbformat_minor": 0,
  "metadata": {
    "colab": {
      "name": "watersupply.ipynb",
      "provenance": [],
      "authorship_tag": "ABX9TyPpPBcrHDVBuZjx6B/cpgx8",
      "include_colab_link": true
    },
    "kernelspec": {
      "name": "python3",
      "display_name": "Python 3"
    }
  },
  "cells": [
    {
      "cell_type": "markdown",
      "metadata": {
        "id": "view-in-github",
        "colab_type": "text"
      },
      "source": [
        "<a href=\"https://colab.research.google.com/github/anhkhoa039/CS112.L11.KHTN/blob/master/week3/watersupply.ipynb\" target=\"_parent\"><img src=\"https://colab.research.google.com/assets/colab-badge.svg\" alt=\"Open In Colab\"/></a>"
      ]
    },
    {
      "cell_type": "code",
      "metadata": {
        "id": "-I9BEbUQoLh1",
        "outputId": "7b1317fa-e564-47d7-f140-e9e7b6204f5e",
        "colab": {
          "base_uri": "https://localhost:8080/",
          "height": 84
        }
      },
      "source": [
        "n,m = map(int, input().split())\n",
        "parent =  []\n",
        "size = []\n",
        "for i in range (0,n+1):\n",
        "    parent.append(i)\n",
        "    size.append(1)\n",
        "def findset(x):\n",
        "    if x == parent[x]:\n",
        "        return x\n",
        "    return findset(parent[x])\n",
        "\n",
        "def union(x, y):\n",
        "    xset = findset(x)\n",
        "    yset = findset(y)\n",
        "    if xset != yset:\n",
        "        if size[xset] >= size[yset]:\n",
        "            parent[yset] = xset\n",
        "            size[xset] += size[yset]\n",
        "        else:\n",
        "            parent[xset] = yset\n",
        "            size[yset] = size[yset] + size[xset]\n",
        "\n",
        "for _ in range(m):\n",
        "    x, y = map(int, input().split())\n",
        "    if x > 0 and x <= n and y > 0 and y <= n:\n",
        "        union(x, y)\n",
        "\n",
        "def result ():\n",
        "    mod_number = int(1e9 + 7)\n",
        "    method = 1\n",
        "    num_comp = 0\n",
        "    if n == 1:\n",
        "        return 0,0\n",
        "    for i in range(1,n+1):\n",
        "        if findset(i) == i:\n",
        "            num_comp += 1\n",
        "            method = ((method % mod_number) * (size[i] % mod_number)) % mod_number\n",
        "    if num_comp == 1:\n",
        "        return 0, 0\n",
        "    method = ((method % mod_number) * (int(pow(n, num_comp - 2, mod_number)) % mod_number)) % mod_number\n",
        "    return num_comp - 1, method\n",
        "\n",
        "ans= result()\n",
        "print(\"{}\\n{}\".format(ans[0], ans[1]))"
      ],
      "execution_count": 1,
      "outputs": [
        {
          "output_type": "stream",
          "text": [
            "3 1\n",
            "1 2\n",
            "1\n",
            "2\n"
          ],
          "name": "stdout"
        }
      ]
    }
  ]
}