{
  "nbformat": 4,
  "nbformat_minor": 0,
  "metadata": {
    "colab": {
      "name": "TT_buoi3.ipynb",
      "provenance": [],
      "authorship_tag": "ABX9TyN1cBmUpjQBBNjWKCwQ7gac",
      "include_colab_link": true
    },
    "kernelspec": {
      "name": "python3",
      "display_name": "Python 3"
    }
  },
  "cells": [
    {
      "cell_type": "markdown",
      "metadata": {
        "id": "view-in-github",
        "colab_type": "text"
      },
      "source": [
        "<a href=\"https://colab.research.google.com/github/anhkhoa039/CS112.L11.KHTN/blob/master/week3/TT_buoi3.ipynb\" target=\"_parent\"><img src=\"https://colab.research.google.com/assets/colab-badge.svg\" alt=\"Open In Colab\"/></a>"
      ]
    },
    {
      "cell_type": "markdown",
      "metadata": {
        "id": "bxUetTZwxli5"
      },
      "source": [
        "## **Nhóm 10**\n",
        "### ***Nguyễn Anh Khoa - 18520923***\n",
        "### ***Võ Quốc An - 18520440***\n",
        "### ***Trần Thị Phương Thảo - 18521422***"
      ]
    },
    {
      "cell_type": "markdown",
      "metadata": {
        "id": "bQnvU3_pxquA"
      },
      "source": [
        "## **TÓM TẮT TUẦN 3**\n",
        "\n",
        "\n",
        "1. Phân lịch thuyết trình mỗi nhóm. Bắt đầu từ nhóm 007 ngày 01/10/2020. Mỗi nhóm có 15p thuyết trình.\n",
        "- Chủ đề: kiểm tra tính đúng đắn và hiệu năng của chương trình bằng bộ test\n",
        "- Mỗi nhóm cần tìm hiểu trước để phản biện hoặc thắc mắc với nhóm thuyết trình\n",
        "2. Giải bài tập tuần 2: bài đếm sao"
      ]
    },
    {
      "cell_type": "code",
      "metadata": {
        "id": "qJUa4IZK0X1D"
      },
      "source": [
        ""
      ],
      "execution_count": null,
      "outputs": []
    }
  ]
}