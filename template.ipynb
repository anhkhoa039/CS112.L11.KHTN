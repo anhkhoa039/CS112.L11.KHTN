{
  "nbformat": 4,
  "nbformat_minor": 0,
  "metadata": {
    "colab": {
      "name": "template.ipynb",
      "provenance": [],
      "authorship_tag": "ABX9TyM2S2w4oX79j/VzDcQl39Ha",
      "include_colab_link": true
    },
    "kernelspec": {
      "name": "python3",
      "display_name": "Python 3"
    }
  },
  "cells": [
    {
      "cell_type": "markdown",
      "metadata": {
        "id": "view-in-github",
        "colab_type": "text"
      },
      "source": [
        "<a href=\"https://colab.research.google.com/github/anhkhoa039/CS112.L11.KHTN/blob/master/template.ipynb\" target=\"_parent\"><img src=\"https://colab.research.google.com/assets/colab-badge.svg\" alt=\"Open In Colab\"/></a>"
      ]
    },
    {
      "cell_type": "markdown",
      "metadata": {
        "id": "LjqjMEbtEAXQ"
      },
      "source": [
        "# **Nhóm:    N010**\n",
        "# Thành viên:\n",
        "### *Nguyễn Anh Khoa - 18520923*\n",
        "### *Võ Quốc An - 18520440*\n",
        "### *Trần Thị Phương Thảo - 18521422*"
      ]
    },
    {
      "cell_type": "markdown",
      "metadata": {
        "id": "IHPzAOuKFvMe"
      },
      "source": [
        "# Đề bài: ....\n",
        "\n",
        "Để tăng độ an toàn chống hiện tượng cướp ngân hàng ngày càng phổ biến người ta dùng khóa số với mã mở khóa đơn giản nhưng rất hiệu quả. Trên cửa ra vào hiển thị một xâu khá dài các ký tự số. Các chữ số có thể di chuyển đổi chổ cho nhau hoặc bị xóa. Muốn mở khóa người ta phải di chuyển các chữ số và trong trường hợp cần thiết – xóa vài chữ số để nhận được xâu lớn nhất thỏa mãn điều kiện đã cài đặt. Điều kiện này được thay đổi thường xuyên. Hôm nay điều kiện đó là “Số nhận được phải chia hết cho 3”. Số nhận được có thể bắt đầu bằng các chữ số 0. Xâu “000” sẽ lớn hơn xâu “00”.\n",
        "\n",
        "Hãy xác định khóa mở cửa.\n",
        "\n",
        "**Dữ liệu**: Vào từ thiết bị nhập chuẩn gồm một xâu ký tự số có độ dài lớn hơn 2 và không vượt quá 105.\n",
        "\n",
        "**Kết quả**: Đưa ra thiết bị xuất chuẩn xâu khóa mở cửa.\n",
        "\n",
        "**Ví dụ:**\n",
        "\n",
        "|Input |Output| \n",
        "|:-----|:-----| \n",
        "|105   |501   |\n",
        "|003   |300   |"
      ]
    },
    {
      "cell_type": "markdown",
      "metadata": {
        "id": "W6Ac2B5gGWVA"
      },
      "source": [
        "\n",
        "##**1. Abstraction:** \n",
        "##**2  Decomposition:**\n",
        "##**3. Pattern Recognition:** \n",
        "##**4. Algorithm designed:**\n"
      ]
    },
    {
      "cell_type": "markdown",
      "metadata": {
        "id": "KglOriPOGu-E"
      },
      "source": [
        "### Solution 1:\n",
        "(explain for solution 1 here) - double click to edit"
      ]
    },
    {
      "cell_type": "code",
      "metadata": {
        "id": "OSfYTNbAGyiF"
      },
      "source": [
        "# code for solution 1"
      ],
      "execution_count": null,
      "outputs": []
    },
    {
      "cell_type": "markdown",
      "metadata": {
        "id": "PEmqIZKTG0hk"
      },
      "source": [
        "### Solution 2:\n",
        "(explain for solution 2 here) - double click to edit"
      ]
    },
    {
      "cell_type": "code",
      "metadata": {
        "id": "CTgjRnBvG2o1"
      },
      "source": [
        "# code for solution 2"
      ],
      "execution_count": null,
      "outputs": []
    },
    {
      "cell_type": "markdown",
      "metadata": {
        "id": "yr-y7kIfGpGk"
      },
      "source": [
        "# BEST SOLUTION\n",
        "\n",
        "### explain here: "
      ]
    },
    {
      "cell_type": "markdown",
      "metadata": {
        "id": "hTIZM13hHk2W"
      },
      "source": [
        "### KẾT QUẢ TRÊN WECODE\n",
        "\n",
        "(insert image here)"
      ]
    }
  ]
}