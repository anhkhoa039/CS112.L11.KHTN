{
  "nbformat": 4,
  "nbformat_minor": 0,
  "metadata": {
    "colab": {
      "name": "Week8_Report.ipynb",
      "provenance": [],
      "collapsed_sections": [],
      "authorship_tag": "ABX9TyMQ4JWT4di7lM/WSGKy8t+C",
      "include_colab_link": true
    },
    "kernelspec": {
      "name": "python3",
      "display_name": "Python 3"
    }
  },
  "cells": [
    {
      "cell_type": "markdown",
      "metadata": {
        "id": "view-in-github",
        "colab_type": "text"
      },
      "source": [
        "<a href=\"https://colab.research.google.com/github/anhkhoa039/CS112.L11.KHTN/blob/master/week8/Week8_Report.ipynb\" target=\"_parent\"><img src=\"https://colab.research.google.com/assets/colab-badge.svg\" alt=\"Open In Colab\"/></a>"
      ]
    },
    {
      "cell_type": "markdown",
      "metadata": {
        "id": "LocofRamn0ju"
      },
      "source": [
        "# **Nhóm:    N010**\n",
        "# Thành viên:\n",
        "### *Võ Quốc An - 18520440*\n",
        "### *Nguyễn Anh Khoa - 18520923*\n",
        "### *Trần Thị Phương Thảo - 18521422*"
      ]
    },
    {
      "cell_type": "markdown",
      "metadata": {
        "id": "z9Bwe21nn1UD"
      },
      "source": [
        "# **SỐ NGUYÊN MỚI** \n",
        "Cho số nguyên dương **n** có không quá 100 chữ số. Hãy xác định số nguyên lớn nhất **m** chia hết cho 3 và khác **n** ở đúng một chữ số.\n",
        "\n",
        "\n",
        "Ví dụ, **n** = 123 thì **m** sẽ là 723.\n",
        "\n",
        "\n",
        "**Dữ liệu**: Vào từ thiết bị nhập chuẩn gồm một dòng chứa số nguyên **n** có không quá 100 chữ số và không chứa các số 0 không có nghĩa.\n",
        "\n",
        "\n",
        "**Kết quả**: Đưa ra thiết bị xuất chuẩn số nguyên **m** tìm được.\n",
        "\n",
        "\n",
        "\n",
        "**Ví dụ:**\n",
        "\n",
        "<img src= \"https://i.imgur.com/IsRuE64.png\" class = \"center\" width = 400/>\n"
      ]
    },
    {
      "cell_type": "markdown",
      "metadata": {
        "id": "hpx9dZCMn4Uk"
      },
      "source": [
        "##**1. Abstraction:** \n",
        "Xác định số nguyên lớn nhất chia hết cho 3 và khác n ở đúng một chữ số.\n",
        "## **4. Algorithm designed:**\n",
        "\n",
        "```python\n",
        "Gán x = 3 - n%3   (suy ra (n + x) % 3 == 0)  \n",
        "\n",
        "l = list(str(n))\n",
        "i = 0\n",
        "Run = True\n",
        "(Kiếm tra trường hợp có số nguyên lớn hơn n thõa mãn)\n",
        "loop: \n",
        "while Run:\n",
        "  p = int(l[i] + x)  (Cộng thêm x để chia hết cho 3)\n",
        "  if (p < 10):\n",
        "    while p < 7:\n",
        "      p += 3\n",
        "    l[i] = str(p)\n",
        "    Run = False\n",
        "  (Tăng lần lượt lên 3 để nhận được chữ số lớn nhất, nếu tìm được chữ số phù hợp thì dừng vòng lặp)\n",
        "  i += 1\n",
        "  if i == len(l):\n",
        "    Run = False\n",
        "    (Kiểm tra đến chữ số cuối cùng của n, nếu không tìm được thì dừng vòng lặp)\n",
        "  \n",
        "if \"\".join(l) != str(n):\n",
        "  print(\"\".join(l))\n",
        "  (Nếu l khác n -> tìm được số nguyên thõa mãn)\n",
        "else:\n",
        "(Kiểm tra trường hợp số nguyên bé hơn n thõa mãn)\n",
        "    if n % 3 == 0:\n",
        "        temp = int(l[-1]) - 3\n",
        "    else:\n",
        "        temp = int(l[-1]) - n%3\n",
        "    l[-1] = str(temp)\n",
        "    print(\"\".join(l))\n",
        "```\n"
      ]
    },
    {
      "cell_type": "code",
      "metadata": {
        "colab": {
          "base_uri": "https://localhost:8080/"
        },
        "id": "2LMsRZ3WpOUn",
        "outputId": "acfc4bb1-bcff-49ee-a5e9-1dce834d3b3f"
      },
      "source": [
        "#Code\n",
        "n = int(input())\n",
        "\n",
        "l = list(str(n))\n",
        "x = 3 - n%3\n",
        "\n",
        "Run = True\n",
        "i = 0\n",
        "while Run:\n",
        "    p = int(l[i]) + x\n",
        "    if (p < 10):\n",
        "        while p < 7:\n",
        "            p += 3\n",
        "        l[i] = str(p)\n",
        "        Run = False\n",
        "    i += 1\n",
        "    if i == len(l):\n",
        "        Run = False\n",
        "\n",
        "if \"\".join(l) != str(n):\n",
        "    print(\"\".join(l))\n",
        "else:\n",
        "    if n % 3 == 0:\n",
        "        temp = int(l[-1]) - 3\n",
        "    else:\n",
        "        temp = int(l[-1]) - n%3\n",
        "    l[-1] = str(temp)\n",
        "    print(\"\".join(l))"
      ],
      "execution_count": 2,
      "outputs": [
        {
          "output_type": "stream",
          "text": [
            "123\n",
            "723\n"
          ],
          "name": "stdout"
        }
      ]
    },
    {
      "cell_type": "markdown",
      "metadata": {
        "id": "8RwCF5GWpdZf"
      },
      "source": [
        "### **Kết quả wecode**\n",
        "![alt text](https://i.imgur.com/4EBfRWQ.png \"Logo Title Text 1\")"
      ]
    }
  ]
}