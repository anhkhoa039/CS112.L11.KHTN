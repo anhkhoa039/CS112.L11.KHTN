{
  "nbformat": 4,
  "nbformat_minor": 0,
  "metadata": {
    "colab": {
      "name": "Week8_Report.ipynb",
      "provenance": [],
      "collapsed_sections": [],
      "include_colab_link": true
    },
    "kernelspec": {
      "name": "python3",
      "display_name": "Python 3"
    }
  },
  "cells": [
    {
      "cell_type": "markdown",
      "metadata": {
        "id": "view-in-github",
        "colab_type": "text"
      },
      "source": [
        "<a href=\"https://colab.research.google.com/github/anhkhoa039/CS112.L11.KHTN/blob/master/week8/Week8_Report.ipynb\" target=\"_parent\"><img src=\"https://colab.research.google.com/assets/colab-badge.svg\" alt=\"Open In Colab\"/></a>"
      ]
    },
    {
      "cell_type": "markdown",
      "metadata": {
        "id": "LocofRamn0ju"
      },
      "source": [
        "# **Nhóm:    N010**\n",
        "# Thành viên:\n",
        "### *Võ Quốc An - 18520440*\n",
        "### *Nguyễn Anh Khoa - 18520923*\n",
        "### *Trần Thị Phương Thảo - 18521422*"
      ]
    },
    {
      "cell_type": "markdown",
      "metadata": {
        "id": "z9Bwe21nn1UD"
      },
      "source": [
        "# **SỐ NGUYÊN MỚI** \n",
        "Cho số nguyên dương **n** có không quá 100 chữ số. Hãy xác định số nguyên lớn nhất **m** chia hết cho 3 và khác **n** ở đúng một chữ số.\n",
        "\n",
        "\n",
        "Ví dụ, **n** = 123 thì **m** sẽ là 723.\n",
        "\n",
        "\n",
        "**Dữ liệu**: Vào từ thiết bị nhập chuẩn gồm một dòng chứa số nguyên **n** có không quá 100 chữ số và không chứa các số 0 không có nghĩa.\n",
        "\n",
        "\n",
        "**Kết quả**: Đưa ra thiết bị xuất chuẩn số nguyên **m** tìm được.\n",
        "\n",
        "\n",
        "\n",
        "**Ví dụ:**\n",
        "\n",
        "<img src= \"https://i.imgur.com/IsRuE64.png\" class = \"center\" width = 400/>\n"
      ]
    },
    {
      "cell_type": "markdown",
      "metadata": {
        "id": "hpx9dZCMn4Uk"
      },
      "source": [
        "##**1. Abstraction:** \n",
        "Xác định số nguyên lớn nhất chia hết cho 3 và khác n ở đúng một chữ số.\n",
        "## **4. Algorithm designed:**\n",
        "\n",
        "```python\n",
        "Gán x = 3 - n%3   (suy ra (n + x) % 3 == 0)  \n",
        "\n",
        "l = list(str(n))\n",
        "i = 0\n",
        "Run = True\n",
        "(Kiếm tra trường hợp có số nguyên lớn hơn n thõa mãn)\n",
        "loop: \n",
        "while Run:\n",
        "  p = int(l[i] + x)  (Cộng thêm x để chia hết cho 3)\n",
        "  if (p < 10):\n",
        "    while p < 7:\n",
        "      p += 3\n",
        "    l[i] = str(p)\n",
        "    Run = False\n",
        "  (Tăng lần lượt lên 3 để nhận được chữ số lớn nhất, nếu tìm được chữ số phù hợp thì dừng vòng lặp)\n",
        "  i += 1\n",
        "  if i == len(l):\n",
        "    Run = False\n",
        "    (Kiểm tra đến chữ số cuối cùng của n, nếu không tìm được thì dừng vòng lặp)\n",
        "  \n",
        "if \"\".join(l) != str(n):\n",
        "  print(\"\".join(l))\n",
        "  (Nếu l khác n -> tìm được số nguyên thõa mãn)\n",
        "else:\n",
        "(Kiểm tra trường hợp số nguyên bé hơn n thõa mãn)\n",
        "    if n % 3 == 0:\n",
        "        temp = int(l[-1]) - 3\n",
        "    else:\n",
        "        temp = int(l[-1]) - n%3\n",
        "    l[-1] = str(temp)\n",
        "    print(\"\".join(l))\n",
        "```\n"
      ]
    },
    {
      "cell_type": "code",
      "metadata": {
        "colab": {
          "base_uri": "https://localhost:8080/"
        },
        "id": "2LMsRZ3WpOUn",
        "outputId": "acfc4bb1-bcff-49ee-a5e9-1dce834d3b3f"
      },
      "source": [
        "#Code\n",
        "n = int(input())\n",
        "\n",
        "l = list(str(n))\n",
        "x = 3 - n%3\n",
        "\n",
        "Run = True\n",
        "i = 0\n",
        "while Run:\n",
        "    p = int(l[i]) + x\n",
        "    if (p < 10):\n",
        "        while p < 7:\n",
        "            p += 3\n",
        "        l[i] = str(p)\n",
        "        Run = False\n",
        "    i += 1\n",
        "    if i == len(l):\n",
        "        Run = False\n",
        "\n",
        "if \"\".join(l) != str(n):\n",
        "    print(\"\".join(l))\n",
        "else:\n",
        "    if n % 3 == 0:\n",
        "        temp = int(l[-1]) - 3\n",
        "    else:\n",
        "        temp = int(l[-1]) - n%3\n",
        "    l[-1] = str(temp)\n",
        "    print(\"\".join(l))"
      ],
      "execution_count": null,
      "outputs": [
        {
          "output_type": "stream",
          "text": [
            "123\n",
            "723\n"
          ],
          "name": "stdout"
        }
      ]
    },
    {
      "cell_type": "markdown",
      "metadata": {
        "id": "8RwCF5GWpdZf"
      },
      "source": [
        "### **Kết quả wecode**\n",
        "![alt text](https://i.imgur.com/4EBfRWQ.png \"Logo Title Text 1\")"
      ]
    },
    {
      "cell_type": "markdown",
      "metadata": {
        "id": "hoGgCEkJxH5h"
      },
      "source": [
        "# **CON ĐƯỜNG GỐM SỨ**\n",
        "\n",
        "Sau khi bê tông hóa đê chống lụt, thành phố quyết định cho khảm lên tường bê tông của đê tranh ghép tạo bởi các mảnh gốm sứ lấy từ các lò gốm nổi tiếng trong nước. Toàn bộ con đê được chia thành n phần có độ rộng giống nhau, mỗi phần gọi là một lô. Mỗi bức tranh khảm trên đó đều phải có độ rộng giống nhau, tức là bao gồm một số như nhau các lô liên tiếp và toàn bộ tường phải được phủ kín tranh từ đầu đến cuối, mỗi lô phải được tạo màu chủ đạo (gọi là màu của lô) từ một loại gốm đặc trưng lấy từ một lò gốm nào đó trong nước, ví dụ gốm màu xanh Cô ban từ lò gốm Ánh Hồng Quảng Ninh, gốm da lươn – từ Bát Tràng Hà Nội, gốm mộc hồng nhạt – từ Biên Hòa Đồng Nai, . . . Các loại gốm này được đánh số từ 1 đến 50 000.\n",
        "\n",
        "Hướng dẫn viên du lịch giới thiệu với khách tham quan là có 2 nhóm nghệ nhân được giao việc tạo hình và khảm tranh. Với mỗi nhóm các bức tranh của đều được đặc trưng bởi dãy số (**c1, c2, . . ., ck**), trong đó **k** là độ rộng của tranh, **ci** – màu của lô, **i** = 1 ÷ **k**, các bức tranh khác nhau có thể khác nhau ở trình tự xuất hiện màu của các lô, ví dụ với dãy số đặc trưng (2, 6, 2, 9), trình tự màu trong tranh có thể là (9, 2, 2, 6) hoặc (6, 9, 2, 2) nhưng không thể là (6, 9, 2, 3). Dãy đặc trưng của 2 nhóm là khác nhau, tức là không thể bằng phép hoán vị trình tự màu của lô để đưa một dãy về dãy kia. Các bức tranh được ghép với nhau rất hài hòa và khách tham quan không nhận biết được sự chuyển tiếp từ tranh này sang tranh khác. Tuy vậy nhiều khách tham quan vẫn muốn biết có bao nhiêu bức tranh đã tạo ra và trong đó số bức tranh của mỗi nhóm là bao nhiêu.\n",
        "\n",
        "Hãy xác định số lượng tranh có thể có và số lượng tranh mỗi nhóm đã làm. biết rằng nhóm nào cũng có tranh của mình.\n",
        "\n",
        "## ***Dữ liệu:***\n",
        "Dòng đầu tiên chứa một số nguyên **n** – số lượng lô của con đê (2 ≤ **n** ≤ 105),\n",
        "Dòng thứ 2 chứa **n** số nguyên **a1, a2, . . ., an** – màu của các lô (1 ≤ **ai** ≤ 50 000, **i** = 1 ÷ **n**).\n",
        "## ***Kết quả:*** \n",
        "Dòng đầu tiên chứa số nguyên **m** – số lượng phương án khác nhau chia con đường thành các bức tranh, nếu không có cách phân chia để đảm bảo phân biệt tranh của đúng 2 nhóm thì đưa ra số -1. Nếu có cách phân biệt thì ở mỗi dòng tiếp theo đưa ra 3 số nguyên **k**, **p** và **q** – độ rộng bức tranh, số tranh do nhóm 1 thực hiện và số tranh do nhóm 2 thực hiện, thông tin đưa ra theo thứ tự tăng dần của k và ở mỗi dòng có **p** ≥ **q** > 0.\n",
        "\n",
        "## ***Ví dụ:***\n",
        "![image.png](data:image/png;base64,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)"
      ]
    },
    {
      "cell_type": "markdown",
      "metadata": {
        "id": "XTe9C2NdxXy6"
      },
      "source": [
        "## **4. Algorithm designed:**\n",
        "Gán m = 0 (m số đám án khác nhau thỏa mãn bài toán)\n",
        "kq = '' (kq là các cách chia con đường)\n",
        "\n",
        "Tìm tất cả các ước của n khác 1 và n:\n",
        "*   Với mối ước k của n (k != 1, k !=n):\n",
        "*   Chia con đường thành k/n bức tranh với cùng độ rộng k. Đếm số loại bức tranh và số bức tranh của mỗi loại trong k/n bức tranh: \n",
        "    *   c = [] (c là mảng chứa các loại bức tranh)\n",
        "    *   s = [] (s là mảng chứa các bức tranh)\n",
        "    *   Với mỗi bức tranh a[i, i+k]:\n",
        "       *   Sắp xếp a[i, i+k] tăng giần\n",
        "       *   Nếu a[i, i+k] chưa có trong c thì:\n",
        "       *  Nếu c đã tồn tại 2 loại bức tranh thì:\n",
        "          *  c = []       \n",
        "          *  break\n",
        "       *  Else:\n",
        "          *  Thêm a[i, i+k] vào c\n",
        "       *  Thêm a[i, i+k] vào s\n",
        "            \n",
        "*   Nếu số loại bức tranh bằng 2 (len(c) = 2) thì: \n",
        "    *   q = s.count(c[0])\n",
        "    *   p = s.count(c[1])\n",
        "    *   Thêm k p q  vào kq với p, q là số lượng mỗi loại bức tranh đếm được (p >= q). \n",
        "    *   Tăng m lên 1 (tăng số cách chia lên 1). \n",
        "\n",
        "Nếu m = 0 (số cách chia con đường thỏa bài toán bằng 0) thì:\n",
        "*   In ra -1.\n",
        "\n",
        "Else:\n",
        "*   In ra m và kq\n",
        "\n",
        "### **Ví dụ:**\n",
        "**Input:** \n",
        "\n",
        "12\n",
        "\n",
        "1 2 3 3 1 2 6 4 5 4 5 6\n",
        "\n",
        "**Ta có: **\n",
        "\n",
        "n = 12\n",
        "\n",
        "a = [1, 2, 3, 3, 1, 2, 6, 4, 5, 4, 5, 6]\n",
        "\n",
        "![image.png](data:image/png;base64,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)\n",
        "\n",
        "![image.png](data:image/png;base64,iVBORw0KGgoAAAANSUhEUgAAAFcAAACHCAYAAABj9sVDAAAHX0lEQVR4Ae2dbW7zIAyAc8ZK74WmXaU7SneQ/dgxeGU+TcDmw6FNOk+amgRs4MFxEpumm9G/ZQS2ZZpVsVG4C41gLdzvT7Ntn+axcABnVn1NuHbSNrNt8H8z959zIr4e3J+7uSGgv1+3054ddbhgGR93c//nLeMbBrSZ7d/d/I4YCegZlWnof3xsZvvAjuZhPrfNfH43BF9QTMP1HbaDsX4TBjF4CoKVHQr31054Aun2wT3cvoam/SmoabgeCsB1HT8KrrM05y+D3+w9KxJcN+mub9Y1ZNb8FHbNRl4At9knpkLdUpMBMKIvKFoLtzogieUaYy02s9JkzdXmXnhwKVx3JR/00y0Y/jYs+l27f8576evBBfgesPPb5wQL3azDbVmPlncRULhdmOYqKdw5bl1SCrcL01wlhTvHrUtK4XZhmqukcOe4dUkp3C5Mc5UU7hy3LqmlcN3j78pY60xcAWIbz3mqOyncPmhlEKfLoIyd9EPjzPV2l8KtN9lztAOuMGDzjDAlARcGB9EsHB7Ep1IavLWeIlGI5fZRMV530ocC6UWmIbWfT5U75e82rwaB9EdKVe2TmDYXh8eUazpij4GbZ1bzU9ANDqdX8vLQNRhsDS7W7XTlaRoKntdLgvGTCvFeFJqEvuX6QU+jjTAEwScLN8ZMoQHobPRTHi4OWmfloUc0XKy7TNM0Bl5tC9pE7aE6dbgu8F5CD32Xf47BjVfZxuBjv9Bg47FSdhQufUFC7XXALduNnTxkYwzuznKx9dV7gwYbK8jh5mdRVHxVywVI2G+VgPAQ0/Ys3FquLGk1rM/1Pr5pub1jQO0ObrKWi9PfuW9qdAwGZu8g8BU/XNhK2frp6SY06Km1nx+DkaPJbMElJ2iQIFOdhds+7RnNq4vsBM7fSlEXuSO7fV24YKfF0qY+NPQFsU++t9al4c7dq4LrmLf4XrBQj4A7okLrUgQULkXmgOMK9wCIlAqFS5E54LjCPQAipULhUmQOOL4Urr2fXLqknnjaizGQcULQ5/LJb1wPSJwUbgmtNrzaQ4T8AcE9dh/xdLoUbg1I37EOuMTjrxyuMXRgqK/3oRYBFwYHgRYcPMFPNWnw1npOk+YxRfIx9C9Zout7CAjBZ80NgFzteADX88nAxamY/XN86mDoQO0UzaJUsTdBNo+SBT2uWpq8KIY3mIgWtlzbp53/3feThIiiarjpkW0Wbprtq6R5kuXeIaizA1s73Um4zAT2Ah6DGwMeDcuKraP4ajxWylprw/m4RvIQW2dU6zdsmY8l52dD3ZeScHFseN9I5/4Y3GgJJaB6e2vg0mmeZLm/1vJ2q30q1kjCrdStj5E+2gnXXdiSJayGu/fxuwEwA8+s2t5RBN8OOtw4grsLVp7GhdpZ7XPpK2oDrh0UTvHgi2MpaweZuYUEIvQhB+B05MccmAwurE6IC0T811dx3z4eNuBe00NaNOLf2uy03JaaF5RbSPj2cK4PVYjMmTHSynXhCtI8GFAJN3cduO7o9qXhzqV5ckR7uOBGam4il+rbI+D2CWstnoDC5fmIShWuCB8vrHB5PqJShSvCxwsrXJ6PqFThivDxwgqX5yMqVbgifLywwuX5iEoVrggfL6xweT6iUoUrwscLK1yej6hU4Yrw8cIKl+cjKlW4Iny8sMLl+YhKFa4IHy+scHk+olKFK8LHCytcno+oVOGK8PHCCpfnIypVuCJ8vLDC5fmISmm4djFaWqkYll2KWvtjwgRcWKKJ1rXaFYVo/49Bmh0uAXev7riVf3vN77yvcBfObhdcWGZZfDNmYafeRXUTrlv2Ll/B/S7ARsbBwnVg9UI2AhTXJeEqWIxpbpuA6+4Owjdp4mf8HtpcY39NioD71zCsGa/CXcPValW4CnchgYWq1XIV7kICC1Wr5SrchQQWqlbLVbgLCSxUTVquDTOi946Ppnky+dHHZvzCieJHPBbSOFg1CTdrx+bTBqJjACe++cO91SPtZ5orOxDXSCHOK4c8++AK31RkAY1ab8A+OrFB7gSffXDBEmfhhPfMzMq/J1x/Onu/O+pzo+H4FP2c/KhLia2eYqPPcv1L1MZfT+LiwuNyjs3Vc3edcP0rpOJFqscwfMB9SCbpdXcb6cKWSq6z1QnXgeo/tRUsmAABN/e3kObpB5telBbTQyN+2/vovWz/rdx5LJuAe54OXrknCnfh7ClchbuQwELVarkKdyGBharVchXuQgILVavlKtyFBBaqbliujxGMPL6izroswtijcxQPj8GTgZ+o54UbNNwD4rC3r7v9MeaRuASwCJkL+0Ma7wgXQn6jUIKRABwnOxpN8z+U4YHasOP7wQUoN3P/wr88PRNbnYAbZuigF74jdU/frLuFir+bywoo3HJGLdydpdaOlZK7Iwp3BwR2vVv4QUUKF8Ho26y7hYq/m7u4qOUS07BL9YxctbPlSKPffHcTomkeYlr0sCNAugUFJCegcOUMSQ0Kl0QjL1C4coakBoVLopEXKFw5Q1KDwiXRyAv+Ay0gRnUDZZyQAAAAAElFTkSuQmCC)"
      ]
    },
    {
      "cell_type": "code",
      "metadata": {
        "id": "P4AF6h6sxG7d"
      },
      "source": [
        "# Code python\n",
        "n = int(input())\n",
        "a = list(input().split(' '))\n",
        "b = []\n",
        "kq = ''\n",
        "m = 0\n",
        "mod = 10 ** 9 + 7\n",
        "\n",
        "for i in range(2, int(n / 2) + 1):\n",
        "    if n % i == 0:\n",
        "        c = []\n",
        "        s = []\n",
        "        j = i\n",
        "        while j <= n:\n",
        "            x = sorted(a[j - i:j])\n",
        "            if x not in c:\n",
        "                if len(c) == 2:\n",
        "                    c = []\n",
        "                    break\n",
        "                c.append(x)\n",
        "            s.append(x)\n",
        "            j += i\n",
        "\n",
        "        if len(c) == 2:\n",
        "            m += 1\n",
        "            q = s.count(c[0])\n",
        "            p = s.count(c[1])\n",
        "            kq += '\\n' + str(i) + ' '\n",
        "            if q > p:\n",
        "                kq += str(q) + ' ' + str(p)\n",
        "            else:\n",
        "                kq += str(p) + ' ' + str(q)\n",
        "\n",
        "if m == 0:\n",
        "    print(-1)\n",
        "    exit()\n",
        "\n",
        "print(m, kq)"
      ],
      "execution_count": null,
      "outputs": []
    },
    {
      "cell_type": "code",
      "metadata": {
        "id": "htfvQbS_xcUs"
      },
      "source": [
        ""
      ],
      "execution_count": null,
      "outputs": []
    }
  ]
}