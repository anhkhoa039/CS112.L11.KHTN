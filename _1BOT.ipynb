{
  "nbformat": 4,
  "nbformat_minor": 0,
  "metadata": {
    "colab": {
      "name": "#1BOT.ipynb",
      "provenance": [],
      "collapsed_sections": [],
      "authorship_tag": "ABX9TyNibkl4WoQW2nCmAAk0n+l5",
      "include_colab_link": true
    },
    "kernelspec": {
      "name": "python3",
      "display_name": "Python 3"
    }
  },
  "cells": [
    {
      "cell_type": "markdown",
      "metadata": {
        "id": "view-in-github",
        "colab_type": "text"
      },
      "source": [
        "<a href=\"https://colab.research.google.com/github/anhkhoa039/CS112.L11.KHTN/blob/master/_1BOT.ipynb\" target=\"_parent\"><img src=\"https://colab.research.google.com/assets/colab-badge.svg\" alt=\"Open In Colab\"/></a>"
      ]
    },
    {
      "cell_type": "markdown",
      "metadata": {
        "id": "MRWE4NP5Jshu",
        "colab_type": "text"
      },
      "source": [
        "#BOT"
      ]
    },
    {
      "cell_type": "markdown",
      "metadata": {
        "id": "i3BqsWVyJ2wV",
        "colab_type": "text"
      },
      "source": [
        "##1. Abstraction: phát biểu lại bài toán chỉ bằng 1 câu\n",
        "Một dãy gồm n số nguyên a1, a2, …, an, tìm một đoạn con(dãy gồm các phần tử liên tiếp nhau) có tổng lớn nhất."
      ]
    },
    {
      "cell_type": "markdown",
      "metadata": {
        "id": "i1qA1YBpKWUx",
        "colab_type": "text"
      },
      "source": [
        "##2. Pattern Recognition: tên dạng bài toán/kỹ thuật được áp dụng\n",
        "Quy hoạch động"
      ]
    },
    {
      "cell_type": "markdown",
      "metadata": {
        "id": "ezfUUKVIKeqo",
        "colab_type": "text"
      },
      "source": [
        "##3. Algorithm designed: thuật toán để giải quyết bài toán (trình bày bằng mã giả)"
      ]
    },
    {
      "cell_type": "code",
      "metadata": {
        "id": "iw6ztMldKzB2",
        "colab_type": "code",
        "colab": {}
      },
      "source": [
        "# Mã giả\n",
        "input() #Nhập n\n",
        "input() #Nhập dãy số nguyên\n",
        "maxsum = -10000000000000000,sum = 0,p = 1\n",
        "\n",
        "for i = 0 to n do:\n",
        "\t  sum <- sum + a[i]\n",
        "    if sum < 0 then: \n",
        "      sum <- 0\n",
        "      p <- i + 2\n",
        "\t  if maxsum < sum then:\n",
        "      maxsum <- sum\n",
        "      start <- p\n",
        "      end <- i + 1\n",
        "print(start, end, maxsum)"
      ],
      "execution_count": null,
      "outputs": []
    },
    {
      "cell_type": "markdown",
      "metadata": {
        "id": "5-49YSx6MqLi",
        "colab_type": "text"
      },
      "source": [
        "##4. Programming: cài đặt chương trình bằng NNLT Python\n",
        "Link Github: https://github.com/anhkhoa039/CS112.L11.KHTN/blob/master/exercise/bot.py\n"
      ]
    },
    {
      "cell_type": "code",
      "metadata": {
        "id": "h8NOsVj3M2lU",
        "colab_type": "code",
        "colab": {}
      },
      "source": [
        "\n",
        "def BOT():\n",
        "    n = int(input())\n",
        "    a = [int(x) for x in input().split(\" \")]\n",
        "    maxsum = -1000000000000000000\n",
        "    sum = 0\n",
        "    p = 1\n",
        "    for i in range(0, n):\n",
        "        sum += a[i]\n",
        "        if (sum < 0):\n",
        "            sum = 0\n",
        "            p = i + 2\n",
        "        if(maxsum < sum):\n",
        "            maxsum = sum\n",
        "            star = p\n",
        "            end = i + 1\n",
        "    print(star,end,maxsum,end=' ')\n",
        "BOT()"
      ],
      "execution_count": null,
      "outputs": []
    }
  ]
}