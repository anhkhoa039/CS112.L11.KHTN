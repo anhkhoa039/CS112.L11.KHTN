{
  "nbformat": 4,
  "nbformat_minor": 0,
  "metadata": {
    "colab": {
      "name": "Dem_sao.ipynb",
      "provenance": [],
      "authorship_tag": "ABX9TyMHpEACQxLGMf9E1j+3ol7x",
      "include_colab_link": true
    },
    "kernelspec": {
      "name": "python3",
      "display_name": "Python 3"
    }
  },
  "cells": [
    {
      "cell_type": "markdown",
      "metadata": {
        "id": "view-in-github",
        "colab_type": "text"
      },
      "source": [
        "<a href=\"https://colab.research.google.com/github/anhkhoa039/CS112.L11.KHTN/blob/master/week2/Dem_sao.ipynb\" target=\"_parent\"><img src=\"https://colab.research.google.com/assets/colab-badge.svg\" alt=\"Open In Colab\"/></a>"
      ]
    },
    {
      "cell_type": "code",
      "metadata": {
        "id": "_GxrLOhVlcAg",
        "colab_type": "code",
        "colab": {}
      },
      "source": [
        "from bisect import *\n",
        "\n",
        "n = int(input())\n",
        "a, b, c, d = map(int,input().replace('/',' ').split())\n",
        "\n",
        "points = [map(int,input().split()) for _ in range(n)]\n",
        "rpoints = [(-a*x+b*y,-(-c*x+d*y)) for x,y in points]\n",
        "spoints = sorted([(x,y) for x,y in rpoints if x>0 and y>0], key=lambda x: (x[0], -x[1]))\n",
        "\n",
        "f = []\n",
        "for x,y in spoints:\n",
        "    i = bisect_left(f,y)\n",
        "    if i == len(f):\n",
        "        f.append(y)\n",
        "    else:\n",
        "        f[i] = y\n",
        "\n",
        "print(len(f))"
      ],
      "execution_count": null,
      "outputs": []
    }
  ]
}