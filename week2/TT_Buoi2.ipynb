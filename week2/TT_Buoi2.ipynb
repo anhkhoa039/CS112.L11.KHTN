{
  "nbformat": 4,
  "nbformat_minor": 0,
  "metadata": {
    "colab": {
      "name": "TT_Buoi2.ipynb",
      "provenance": [],
      "toc_visible": true,
      "authorship_tag": "ABX9TyMIumN48DJAO31N6oVqJXqf",
      "include_colab_link": true
    },
    "kernelspec": {
      "name": "python3",
      "display_name": "Python 3"
    }
  },
  "cells": [
    {
      "cell_type": "markdown",
      "metadata": {
        "id": "view-in-github",
        "colab_type": "text"
      },
      "source": [
        "<a href=\"https://colab.research.google.com/github/anhkhoa039/CS112.L11.KHTN/blob/master/week2/TT_Buoi2.ipynb\" target=\"_parent\"><img src=\"https://colab.research.google.com/assets/colab-badge.svg\" alt=\"Open In Colab\"/></a>"
      ]
    },
    {
      "cell_type": "markdown",
      "metadata": {
        "id": "tlQSZo7Cu9ae",
        "colab_type": "text"
      },
      "source": [
        "## **Nhóm:    n10**\n",
        "### ***Nguyễn Anh Khoa - 18520923***\n",
        "### ***Võ Quốc An - 18520440***\n",
        "### ***Trần Thị Phương Thảo - 18521422***"
      ]
    },
    {
      "cell_type": "markdown",
      "metadata": {
        "id": "isF1Els7wwk_",
        "colab_type": "text"
      },
      "source": [
        "## **TÓM TẮT TUẦN 2**\n",
        "\n",
        "### 1. Nhật xét bài làm tuần trước của các nhóm\n",
        "### 2. Nêu chỉnh sửa bổ sung cách làm bài\n",
        "### 3. Các nhóm nêu ý kiến về việc tổ chức, hoạt động nhóm, cách nhóm chuẩn bị cho các cuộc thi học thuật.\n",
        "### 4. Thảo luận về các bài toán của tuần này, tìm hiểu đề và hướng giải cho từng bài toán"
      ]
    }
  ]
}