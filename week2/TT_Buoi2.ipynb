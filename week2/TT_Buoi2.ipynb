{
  "nbformat": 4,
  "nbformat_minor": 0,
  "metadata": {
    "colab": {
      "name": "TT_Buoi2.ipynb",
      "provenance": [],
      "toc_visible": true,
      "include_colab_link": true
    },
    "kernelspec": {
      "name": "python3",
      "display_name": "Python 3"
    }
  },
  "cells": [
    {
      "cell_type": "markdown",
      "metadata": {
        "id": "view-in-github",
        "colab_type": "text"
      },
      "source": [
        "<a href=\"https://colab.research.google.com/github/anhkhoa039/CS112.L11.KHTN/blob/master/week2/TT_Buoi2.ipynb\" target=\"_parent\"><img src=\"https://colab.research.google.com/assets/colab-badge.svg\" alt=\"Open In Colab\"/></a>"
      ]
    },
    {
      "cell_type": "markdown",
      "metadata": {
        "id": "tlQSZo7Cu9ae"
      },
      "source": [
        "## **Nhóm 10**\n",
        "### ***Nguyễn Anh Khoa - 18520923***\n",
        "### ***Võ Quốc An - 18520440***\n",
        "### ***Trần Thị Phương Thảo - 18521422***"
      ]
    },
    {
      "cell_type": "markdown",
      "metadata": {
        "id": "isF1Els7wwk_"
      },
      "source": [
        "## **TÓM TẮT TUẦN 2**\n",
        "\n",
        "### 1. Nhật xét bài làm tuần trước của các nhóm:\n",
        "### 2. Nêu chỉnh sửa bổ sung cách làm bài:\n",
        "- Đào sâu vào mỗi bài toán, tìm hiểu những cách khác nhau để giải quyết bài toán\n",
        "- File báo cáo cần đầy đủ thông tin của mỗi nhóm  \n",
        "\n",
        "### 3. Các nhóm nêu ý kiến về việc tổ chức, hoạt động nhóm, cách nhóm chuẩn bị cho các cuộc thi học thuật.\n",
        "- chiến thuật làm bài:\n",
        "    - phân công nhiệm vụ của từng thành viên, phân theo khả năng của từng người, người code chính người tốt tiếng anh để đọc đề, người fix bug. \n",
        "    - Lựa chọn những bài dễ làm trước, nhìn vào scoreboard để dễ dàng nhìn thấy bài dễ, bài dễ thường cho dữ kiện là 2 số hay cho 1 mảng và thao tác xử lý trên đó.  \n",
        "\n",
        "### 4. Thảo luận về các bài toán của tuần này, tìm hiểu đề và hướng giải cho từng bài toán\n",
        "- Tảo biển: quy về bài toán fibonacci. Lưu ý về cách tính fibonacci để thời gian chạy đáp ứng được đề bài 1s 50M\n",
        "- Đếm sao: sử dụng một số phép biển đổi toán học để tìm ra được 2 bất đẳng thức, dựa vào đó để giải bài toán"
      ]
    },
    {
      "cell_type": "code",
      "metadata": {
        "id": "P0oOVjStw6ZU"
      },
      "source": [
        ""
      ],
      "execution_count": null,
      "outputs": []
    }
  ]
}