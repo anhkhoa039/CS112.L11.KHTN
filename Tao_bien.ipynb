{
  "nbformat": 4,
  "nbformat_minor": 0,
  "metadata": {
    "colab": {
      "name": "Tao_bien.ipynb",
      "provenance": [],
      "collapsed_sections": [],
      "authorship_tag": "ABX9TyNYBbHWUad8+TTK5KIMd2aY",
      "include_colab_link": true
    },
    "kernelspec": {
      "name": "python3",
      "display_name": "Python 3"
    }
  },
  "cells": [
    {
      "cell_type": "markdown",
      "metadata": {
        "id": "view-in-github",
        "colab_type": "text"
      },
      "source": [
        "<a href=\"https://colab.research.google.com/github/anhkhoa039/CS112.L11.KHTN/blob/master/Tao_bien.ipynb\" target=\"_parent\"><img src=\"https://colab.research.google.com/assets/colab-badge.svg\" alt=\"Open In Colab\"/></a>"
      ]
    },
    {
      "cell_type": "markdown",
      "metadata": {
        "id": "vyw7qNjtq6pc",
        "colab_type": "text"
      },
      "source": [
        "# **Nhóm:    n10**"
      ]
    },
    {
      "cell_type": "markdown",
      "metadata": {
        "id": "JaUsVDDlroNv",
        "colab_type": "text"
      },
      "source": [
        "# **TẢO BIỂN (1s, 50M)** \n",
        "Tảo biển sinh sản rất nhanh khi có môi trường thuận lợi với chúng và có những loài còn tiết ra môi trường những chất độc hại.\n",
        "\n",
        "Một loại tảo nâu trong môi trường nước bị ô nhiễm nặng sinh sản theo quy luật sau:\n",
        "\n",
        "*   Ngày đầu tiên (ngày 0) có **n** cá thể ở mức 1,\n",
        "*   Ở mỗi ngày tiếp theo, mỗi cá thể mức **i** sinh ra *i* cá thể mức 1, các cá thể mới sinh sẽ sinh sôi, phát triển từ ngày hôm sau.\n",
        "*   Bản thân các cá thể mức **i** phát triển thành mức **i** + 1 và chu kỳ phát triển trong ngày chấm dứt.\n",
        "\n",
        "Hãy xác định sau **k** ngày trong nước biển có bao nhiêu cá thể.\n",
        "\n",
        "**Dữ liệu:** Vào từ thiết bị nhập chuẩn gồm một dòng chứa 2 số nguyên **n** và **k** (1 ≤ **n** ≤ 1000, 1 ≤ **k** ≤ 1018).\n",
        "\n",
        "(test hiện tại chỉ có **k** <= 105,  thầy sẽ chấm lại sau khi nâng cấp test)\n",
        "\n",
        "**Kết quả:** Đưa ra thiết bị xuất chuẩn một số nguyên – số lượng cá thể  tảo theo mô đun 109+7.\n",
        "\n",
        "**Ví dụ:**\n",
        "\n",
        "#####INPUT:    3 2\n",
        "#####OUTPUT:   15\n"
      ]
    },
    {
      "cell_type": "markdown",
      "metadata": {
        "id": "mNaDdU0Pu93E",
        "colab_type": "text"
      },
      "source": [
        "##**1. Abstraction:** Tìm k lần số Fibonacci thứ i trong dãy Fibonacci với i = 2n + 1\n",
        "##**2. Pattern Recognition:** Fibonacci\n",
        "##**3. Algorithm designed:**\n",
        "##**Giải pháp đơn giản**\n",
        "*   **Sử dụng đệ quy**"
      ]
    },
    {
      "cell_type": "code",
      "metadata": {
        "id": "5qlDMFUfzVF6",
        "colab_type": "code",
        "colab": {
          "base_uri": "https://localhost:8080/",
          "height": 54
        },
        "outputId": "c20a3f8c-b4ca-4a55-e3a2-60daf60541d3"
      },
      "source": [
        "a = list(map(int, input().split()))\n",
        "k = a[0]\n",
        "n = a[1]*2 + 1\n",
        "def fibo(n):\n",
        "    if n <= 2:\n",
        "        return 1\n",
        "    else:\n",
        "        return fibo(n-1) + fibo(n-2)\n",
        "\n",
        "s = k*fibo(n)%1000000007\n",
        "print(s)"
      ],
      "execution_count": null,
      "outputs": [
        {
          "output_type": "stream",
          "text": [
            "3 4\n",
            "102\n"
          ],
          "name": "stdout"
        }
      ]
    },
    {
      "cell_type": "markdown",
      "metadata": {
        "id": "AtCjy4D012Mf",
        "colab_type": "text"
      },
      "source": [
        "*     **Sử dụng vòng lặp để khử đệ quy**"
      ]
    },
    {
      "cell_type": "markdown",
      "metadata": {
        "id": "Qg6MejYCiFkj",
        "colab_type": "text"
      },
      "source": [
        "*   Mã giả\n",
        "        input a (n = a[0], k = a[1])\n",
        "        F0 = 0\n",
        "        F1 = 1\n",
        "        Sử dụng vòng lăp, thực hiện n lần các phép tính:\n",
        "              F0 += F1\n",
        "              F1 += F0\n",
        "        s = n*F1%1000000007 (s = n lần số Fibonacci thứ 2n + 1)\n",
        "        print s\n",
        "\n"
      ]
    },
    {
      "cell_type": "markdown",
      "metadata": {
        "id": "sat-nqBlky6n",
        "colab_type": "text"
      },
      "source": [
        "*    Thuật toán có O(n)"
      ]
    },
    {
      "cell_type": "code",
      "metadata": {
        "id": "c-unuugZ2Zz9",
        "colab_type": "code",
        "colab": {
          "base_uri": "https://localhost:8080/",
          "height": 54
        },
        "outputId": "21c5d474-3f76-4de1-e50d-b4f40e1c05f7"
      },
      "source": [
        "a = list(map(int, input().split()))\n",
        "def fibo(a):\n",
        "    F0 = 0\n",
        "    F1 = 1\n",
        "    for i in range(a[1]):\n",
        "        F0 += F1\n",
        "        F1 += F0\n",
        "    s = a[0]*F1%1000000007\n",
        "    print(s)\n",
        "\n",
        "fibo(a)"
      ],
      "execution_count": null,
      "outputs": [
        {
          "output_type": "stream",
          "text": [
            "123 4567\n",
            "36903180\n"
          ],
          "name": "stdout"
        }
      ]
    },
    {
      "cell_type": "markdown",
      "metadata": {
        "id": "1lmXVZBML716",
        "colab_type": "text"
      },
      "source": [
        "## **Công thức tìm một số Fibonacci bất kì**"
      ]
    },
    {
      "cell_type": "markdown",
      "metadata": {
        "id": "Js-_WkaI3MFm",
        "colab_type": "text"
      },
      "source": [
        "*    **Sử dụng công thức Binet**\n",
        "            Số Fibonacci thứ n được tính bởi công thức:\n",
        "                \n",
        "            Thuật toán có O(1)\n",
        "            Nhược điểm việc tính toán với căn bậc 2 dẫn tới tình trạng làm tròn \n",
        "            số và sẽ xuất hiện sai số nhất định khiến cho giá trị không thực sự \n",
        "            chính xác. N càng lớn sai số xuất hiện cang lớn."
      ]
    },
    {
      "cell_type": "code",
      "metadata": {
        "id": "6BLPLGhw3_rT",
        "colab_type": "code",
        "colab": {
          "base_uri": "https://localhost:8080/",
          "height": 54
        },
        "outputId": "940c8e33-bd8c-41d8-b006-b433cb1a15e0"
      },
      "source": [
        "import math\n",
        "\n",
        "a = list(map(int, input().split()))\n",
        "def binet(a):\n",
        "    a[1] = a[1]*2+1\n",
        "    Fn = int((pow(1 + math.sqrt(5), a[1]) - (pow(1 - math.sqrt(5), a[1]))) / (math.sqrt(5) * pow(2, a[1])))\n",
        "    print(a[0]*Fn%1000000007)\n",
        "\n",
        "binet(a)"
      ],
      "execution_count": null,
      "outputs": [
        {
          "output_type": "stream",
          "text": [
            "5 5\n",
            "445\n"
          ],
          "name": "stdout"
        }
      ]
    },
    {
      "cell_type": "markdown",
      "metadata": {
        "id": "Gs8o6bDiLe2O",
        "colab_type": "text"
      },
      "source": [
        "*    **Sử dụng ma trận**\n",
        "            "
      ]
    },
    {
      "cell_type": "code",
      "metadata": {
        "id": "O80Ch-YWLeBR",
        "colab_type": "code",
        "colab": {
          "base_uri": "https://localhost:8080/",
          "height": 54
        },
        "outputId": "1e8b07a1-ee7b-446a-bf60-477c5107a429"
      },
      "source": [
        "a= [[1,1],\n",
        "    [1,0]]\n",
        "b= [1,1]\n",
        "modulo = 10**9+7\n",
        "def mul_matrix (x,y):\n",
        "    return [[(x[0][0] * y[0][0] + x[0][1] * y[1][0])% modulo,(x[0][0] * y[0][1] + x[0][1] * y[1][1])% modulo],\n",
        "            [(x[1][0] * y[0][0] + x[1][1] * y[1][0])% modulo,(x[1][0] * y[0][1] + x[1][1] * y[1][1])% modulo]]\n",
        "def mul_matrix1(x,y):\n",
        "    return [\n",
        "        (x[0][0] * y[0] + x[0][1] * y[1])% modulo,\n",
        "        (x[1][0] * y[0] + x[1][1] * y[1])% modulo ]\n",
        "def pow_matrix(n):\n",
        "    if n==1:\n",
        "        return a\n",
        "    tmp = pow_matrix(n//2)\n",
        "\n",
        "    if n%2 == 1:\n",
        "        return mul_matrix( mul_matrix(tmp,tmp),a)\n",
        "    else:\n",
        "        return mul_matrix(tmp,tmp)\n",
        "def fibo(n):\n",
        "    return mul_matrix1(pow_matrix(n),b)[1]\n",
        "n,k = map(int, input().split())\n",
        "k *=2\n",
        "res = fibo(k)\n",
        "print ((n*res)%modulo)"
      ],
      "execution_count": null,
      "outputs": [
        {
          "output_type": "stream",
          "text": [
            "6 123\n",
            "644149255\n"
          ],
          "name": "stdout"
        }
      ]
    }
  ]
}