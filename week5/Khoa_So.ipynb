{
  "nbformat": 4,
  "nbformat_minor": 0,
  "metadata": {
    "colab": {
      "name": "Khoa_So.ipynb",
      "provenance": [],
      "toc_visible": true,
      "include_colab_link": true
    },
    "kernelspec": {
      "name": "python3",
      "display_name": "Python 3"
    }
  },
  "cells": [
    {
      "cell_type": "markdown",
      "metadata": {
        "id": "view-in-github",
        "colab_type": "text"
      },
      "source": [
        "<a href=\"https://colab.research.google.com/github/anhkhoa039/CS112.L11.KHTN/blob/master/week5/Khoa_So.ipynb\" target=\"_parent\"><img src=\"https://colab.research.google.com/assets/colab-badge.svg\" alt=\"Open In Colab\"/></a>"
      ]
    },
    {
      "cell_type": "markdown",
      "metadata": {
        "id": "2mQkdCUef8mK"
      },
      "source": [
        "# **Nhóm:    N010**\n",
        "# Thành viên:\n",
        "### *Nguyễn Anh Khoa - 18520923*\n",
        "### *Võ Quốc An - 18520440*\n",
        "### *Trần Thị Phương Thảo - 18521422*"
      ]
    },
    {
      "cell_type": "markdown",
      "metadata": {
        "id": "_pd8UJNXgK9q"
      },
      "source": [
        "# **KHÓA SỐ (0.15s, 100MB)**\n",
        "\n",
        "Để tăng độ an toàn chống hiện tượng cướp ngân hàng ngày càng phổ biến người ta dùng khóa số với mã mở khóa đơn giản nhưng rất hiệu quả. Trên cửa ra vào hiển thị một xâu khá dài các ký tự số. Các chữ số có thể di chuyển đổi chổ cho nhau hoặc bị xóa. Muốn mở khóa người ta phải di chuyển các chữ số và trong trường hợp cần thiết – xóa vài chữ số để nhận được xâu lớn nhất thỏa mãn điều kiện đã cài đặt. Điều kiện này được thay đổi thường xuyên. Hôm nay điều kiện đó là “Số nhận được phải chia hết cho 3”. Số nhận được có thể bắt đầu bằng các chữ số 0. Xâu “000” sẽ lớn hơn xâu “00”.\n",
        "\n",
        "Hãy xác định khóa mở cửa.\n",
        "\n",
        "***Dữ liệu:*** Vào từ thiết bị nhập chuẩn gồm một xâu ký tự số có độ dài lớn hơn 2 và không vượt quá 105.\n",
        "\n",
        "***Kết quả:*** Đưa ra thiết bị xuất chuẩn xâu khóa mở cửa.\n",
        "\n",
        "***Ví dụ:***\n",
        "\n",
        "![image.png](data:image/png;base64,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)"
      ]
    },
    {
      "cell_type": "markdown",
      "metadata": {
        "id": "LQfqytexhJf5"
      },
      "source": [
        "##**1. Abstraction:** \n",
        "Tìm dãy con chia hết cho 3 lớn nhất \n",
        "\n",
        "##**2-3. Decomposition & Pattern Recognition:**  \n",
        "### ***Decomposition:***\n",
        "Có thể chia công việc của bài toán thành 2 phần là: tìm dãy con chia hết cho 3 + tìm dãy con lớn nhất\n",
        "### ***Pattern Recognition:***\n",
        "\n",
        "## **4. Algorithm designed:**\n",
        "Tìm dãy con chia hết cho 3 có số phần tử lớn nhất sau đó sắp sếp dãy số đã tìm được theo thứ tự từ lớn đến bé (giảm dần).\n",
        "####***Ví dụ:*** \n",
        "\n",
        "***Input:*** 1972416\n",
        "\n",
        "Dãy con chia hết cho 3 có số phần tử lớn nhất: 197416\n",
        "\n",
        "Sắp xếp giảm dần: 976411\n",
        "\n",
        "***Input:*** 27516\n",
        "\n",
        "Dãy con chia hết cho 3 có số phần tử lớn nhất: 27516\n",
        "\n",
        "Sắp xếp giảm dần: 76521\n",
        "\n",
        "***Input:*** 862852\n",
        "\n",
        "Dãy con chia hết cho 3 có số phần tử lớn nhất: 86281\n",
        "\n",
        "Sắp xếp giảm dần: 88621\n",
        "\n",
        "**a dãy vào, n = len(a)**\n",
        "\n",
        "**sum = tổng tất cả các chữ số trong a, i in range(0, n)**\n",
        "\n",
        "Dựa vào ví dụ trên ta thấy: \n",
        "\n",
        "*   Nếu sum chia hết cho 3 thì chỉ cần sắp sếp lại dãy ta thu được hết quả.\n",
        "*   Nếu sum chia 3 dư x, ta loại bỏ chữ số ai, sao cho ai bé nhất trong các chữ sỗ thuộc dãy vào mà thảo mãn chia 3 dư x.\n",
        "\n",
        "Nhưng nếu sum % 3 = x, những trong dãy a không có chữ số ai nào thỏa mãn ai %3 = x thì chũng ta cần loại bỏ chữ số nào?\n",
        "\n",
        "####***Ví dụ:*** \n",
        "\n",
        "***Input:*** 32026\n",
        "\n",
        "***Output:*** 730\n",
        "\n",
        "***Input:*** 63164\n",
        "\n",
        "***Output:*** 663\n",
        "\n",
        "Trong ví dụ 1: 32026 % 3 = 1, Output đã bỏ đi 2 số 2\n",
        "\n",
        "Trong ví dụ 2: 63164 % 3 = 2, Output đã bỏ đi 1 và 4\n",
        "\n",
        "Ta nhận thấy ***(2 + 2) = 4 % 3 = 1, (1 + 4) = 5 % 3 = 2***. Tổng 2 chữ sổ chia 3 dư 1 sẽ là 1 số chia 3 dư 2, và Tổng 2 chữ sổ chia 3 dư 2 sẽ là 1 số chia 3 dư 1.\n",
        "\n",
        "Vì a % 3 dư chỉ có 2 trường hợp là dư 2 hoặc 1. a % 3 = x thì:\n",
        "\n",
        "*   Tồn tại chữ số ai trong a, sao cho ai % 3 = x.\n",
        "*   Hoặc tồn tại 2 chữ số ai, aj trong a, sao cho ai%3=(x*2)%3 và aj%3=(x*2)%3.\n",
        "\n",
        "Ở trường hợp 2 chúng ta sẽ loại tìm và loại bỏ ai, aj khỏi a để thu được dãy chia hết cho 3.\n",
        "\n",
        "\n",
        "\n",
        "\n"
      ]
    },
    {
      "cell_type": "code",
      "metadata": {
        "id": "niaKx-vOf5k5",
        "outputId": "d4480fa9-87b9-4f09-c409-fcd5d2eee96f",
        "colab": {
          "base_uri": "https://localhost:8080/",
          "height": 51
        }
      },
      "source": [
        "s = input()\n",
        "a = list(s)\n",
        "int_s = int(s)\n",
        "a.sort()\n",
        "\n",
        "# Nếu dãy chia hết cho 3 thì sx dãy giảm gần, in dãy -> thoát\n",
        "if int_s % 3 == 0:\n",
        "    a.reverse()\n",
        "    print(''.join(a))\n",
        "    exit()\n",
        "\n",
        "x = int(int_s % 3)\n",
        "\n",
        "# Hàm trả về vị trí i trong a sao cho a[i] % 3 = x, nếu không trả về -1\n",
        "def ind1(a, x):\n",
        "    ind = -1\n",
        "    if str(x) in a:\n",
        "        ind = a.index(str(x))\n",
        "    elif str(x + 3) in a:\n",
        "        ind = a.index(str(x+3))\n",
        "    elif str(x + 6) in a:\n",
        "        ind = a.index(str(x+6))\n",
        "    return ind\n",
        "\n",
        "# Hàm trả về vị trí i, j trong a sao cho a[i] % 3 = x, a[j] % 3 = x, nếu không trả về -1, -1\n",
        "def ind2(a, x):\n",
        "    i1 = ind1(a, x)\n",
        "    i2 = ind1(a[i1+1:], x) + i1 + 1\n",
        "    return i1, i2\n",
        "\n",
        "# Tìm và xóa vị trí không thỏa mãn điều kiện, sắp xếp lại dãy giảm dần, in dãy\n",
        "ind = ind1(a, x)\n",
        "if ind == -1:\n",
        "    i1, i2 = ind2(a, (x*2)%3)\n",
        "    if i1 != -1 and i2 != -1:\n",
        "        a.remove(a[i1])\n",
        "        a.remove(a[i2-1])\n",
        "\n",
        "        a.reverse()\n",
        "\n",
        "        if len(a) == 1:\n",
        "            print(str(a[0]))\n",
        "            exit()\n",
        "        else:\n",
        "            print(''.join(a))\n",
        "            exit()\n",
        "else:\n",
        "    a.remove(a[ind])\n",
        "    a.reverse()\n",
        "    if a != []:\n",
        "        print(''.join(a))\n",
        "        exit()"
      ],
      "execution_count": null,
      "outputs": [
        {
          "output_type": "stream",
          "text": [
            "63164\n",
            "663\n"
          ],
          "name": "stdout"
        }
      ]
    },
    {
      "cell_type": "markdown",
      "metadata": {
        "id": "3vR0C7SOenEw"
      },
      "source": [
        "### **Kết quả Wecode**\n",
        "![image.png](data:image/png;base64,iVBORw0KGgoAAAANSUhEUgAABSUAAABWCAYAAAA5f/MuAAAgAElEQVR4Ae2d34td13XH86/Mw8DMk/SkN5e+CD04lMamEAVSLFyQCELGD4OhiWxSWwZJLgRXEDUCt1gYoTLFiAlGRA+RjJgokVQJXDkNRv1hmwiPqFMNdpkYlVX2Pufcu866+9y5+879cdY9H4GYfc8+e5+1P9+lNddf73POtyTx598//b1sb2937m9X191FrRd5zeRx92rXIuczayOfyYF6DlDj6zy6kB9o3j3Nu5DXrLF9eU2taZ8mTf9OglYrlw7yFwYucyDkr/7zLf2hane1IHV13U3FjuN+fjFprchjn7ppDWmjITlADjTlADW+e7mB5t3TvOnfP8fJhWnmALXGT34FrTAlMWW95kDIX/2n0ZQMJ/IXBuQAOUAOkAPkADlADpAD5AA5QA6QA+QAOUAOkAPkADkwiRwYyZTUJ3WlHeDyBwLeCZDH3hUkfghAAALNBKjxzWwWtQfNF1VZ1gWBdhGg1rRLj2HRBK287pIjbnZ42lrTuFNy2D+CRe2zcBZ1naxrsQmQx4utL6uDAAS6TYAa3z390bx7mrNiCMyDALVmHtTHu2bQCnMPc89rDthagymp6oCFo7poQsANAfLYjVQECgEIQCCbADU+G5n7AWjuXkIWAAEXBKg1LmSKQQatvBpSxI2ZamsNpqSqPRaO6qIJATcEyGM3UhEoBCAAgWwC1PhsZO4HoLl7CVkABFwQoNa4kCkGGbTC3MPc85oDttZgSqraY+GoLpoQcEOAPHYjFYFCAAIQyCZAjc9G5n4AmruXkAVAwAUBao0LmWKQQSuvhhRxY6baWoMpqWqPhaO6aELADQHy2I1UBAoBCEAgmwA1PhuZ+wFo7l5CFgABFwSoNS5kikEGrTD3MPe85oCtNZiSqvZYOKqLJgTcECCP3UhFoBCAAASyCVDjs5G5H4Dm7iVkARBwQYBa40KmGGTQyqshRdyYqbbWYEqq2mPhqC6aEHBDgDx2IxWBQgACEMgmQI3PRuZ+AJq7l5AFQMAFAWqNC5likEErzD3MPa85YGsNpqSqPRaO6qIJATcEyGM3UhEoBCAAgWwC1PhsZO4HoLl7CVkABFwQoNa4kCkGGbTyakgRN2aqrTWYkqr2WDiqiyYE3BAgj91IRaAQgAAEsglQ47ORuR+A5u4lZAEQcEGAWuNCphhk0ApzD3PPaw7YWoMpqWqPhaO6aELADQHy2I1UBAoBCEAgmwA1PhuZ+wFo7l5CFgABFwSoNS5kikEGrbwaUsSNmWprDaakqj0WjuqiCQE3BMhjN1IRKAQgAIFsAtT4bGTuB6C5ewlZAARcEKDWuJApBhm0wtzD3POaA7bWYEqq2mPhqC6aEHBDgDx2IxWBQgACEMgmQI3PRuZ+AJq7l5AFQMAFAWqNC5likEErr4YUcWOm2lqDKalqj4WjumhCwA0B8tiNVAQKAQhAIJsANT4bmfsBaO5eQhYAARcEqDUuZIpBBq0w9zD3vOaArTWYkqr2WDiqiyYE3BAgj91IRaAQgAAEsglQ47ORuR+A5u4lZAEQcEGAWuNCphhk0MqrIUXcmKm21szXlPzPDXnl0FG5/KihADx9LJsX1uT5Z/bL0vKqrDxzVE5tPJSdhtP3etjC2et8XR2/87sNOfWDZ2Xf8qosLR+Q59fekc2tFI0d+WTjjBw7dCDqu3TgsLx04ZZsPU2d2z/25N55eX7fGbnbP0RLESCPFQyaEIAABBaMQJdr/Pa//b1899Lfyb0F03S35XRZ893Y0A8BCEyOwKLWmicP3pfXXrkk9yeHau4zBa0w9zD3vOaArTXzMSV3PpPNcy+UplWDKfn0M7l8dL8s7Tssp9ZvyObNG3L5zcOysrxfjqx/NpVCYOFM5SILPunOnTNycHlVDv7gHbly85Zsbrwjxw6tytKhM3L3a734Hbl7+llZWn5Wjl3YkM2bt+TKhRPF2NP30sbzlx/L5R8+JyvR7MSU1DR1mzzWNGhDAAIQWCwCnazx//1A1j/4vuy7FP4DBFNysTKa1UAAAm0hsGi/X775n4dy9Wen5fjaSTm+hinp1cAi7sUzX22tmbEpuS2bbx0uzMgDL8grLz8nS8tpU/LJB2uysvysnPtIl+kd2XzzoCwtn5ArX+rjk2lbOJOZtUOzPP1Yzh1alZWXN+q7HT9flyPLq/In5z7uw/j4vBxc3i8vbTzuHxORTy8flaXlg0b3YFA/E83IlT/7kbzyYtiBiSlZA6c+kMcKBk0ItJXAR5eyvyDfv3hSjl980NYVEdeMCHSrxv+XrF/5TjQj9/3zj+WH72NKzijNuAwEINBBAovz++X3svG3Py7MyL/5B3n7LKYkxl6usffX8rPPv5AnX92WN+P/EM0dz/nDcs7Wmhmbko/l8on+Lbpb68GASpmSj+VyMJ5ObMgT+wvh4Xvy7eVVeemDbduz588Wzp4n7NoEd87IyoChGCDsyC9fW5WlPz0v/1oyuXt6f/HZ3qq9c0NeDQbmeWVgyj15K966/7E8eSpy9zSm5LDUIo+H0Zl33wO5EP9vbfhyVP2t/5/bR9feVn3hnLfl6hepuMNcTX3F+XGulIkVDbHq+uFnPQZ7tZHNsC+uyxu7zNUYk7poPOfsdak92SPOfVKOV8fj56b1KzbVuB5vve6+yVdxf+Na6lkTW3L17ElJ95WBV9ep4lPrCc2BNeWakuH8hrnNpSbycRSdJnIhJskm0K0af09+8k8vyenffCLbT0Xu/QJTMjthGAABCEBgRAKL8/vlgfzjj96WCx8+lCf/JxK/x+7y/XRERK05LWg1zPShb3xT8M9/8wv57VffyM4fv5EdTMmp5JmtNTM2Jev/jhtNydKY+va7D+sD4qd7circvnt68k8UsnASF+/eoTtnesbx1s3zvec/rjxzWF7dqN9G/8m7Yefr6/LLxEM/61o/lHe/sypLr91I3KZdGtIvrkvKGggCYEoOT0PyeDifefUWptegiXb/Yv9Y/NJkjKdH1y7VTcnK/IomW3+sXlfx5as03wZMyS25erFu+KWuOzDfwDzqjJrJmTY4h8ek5koZeFKauTqGUU3J2tTFPBdqO/CLEypTMm0CZ5iSa2nzcm+mZLh+Wuva8ibwIUenCVyOKcYg0OUajyk5RsIwBAIQgMCIBBb190vx3Sb9/XRENK07LWiF8Ti+8TjI7pj81b/8XH79h68KMzIYkpiSU8sxW2vaaUo+Km73ffVGwt2S0rQ6utFoWo1bNSyccedZqHHRlHxBTp0+KgdeOF88J/Lmhrz13fDyof3y6s2+RtEs/M578kkKQJxnv7wVveTCWE6bzqXpuO8njS+ywZRMAe4fI4/7LFrTGmlXnNrd1xi4MseaTDl1rfglTBt5TfM2zVWeP3weZfSpa9cupY4Pn6sYVTfwijUP3LY8NOYmlirWWoD9nYxXwy3SxhgWUdzNuN7HKp5r4bbsQQOxviYRUUx6czQ2tuRRcrds44DxOlRMo+g03kUYtVcCXa7xmJJ7zR7GQwACEGgmsKi/X+J3GnZKTs1gGjT4JmkWzmiu27flcWVE/u9n8uF//Lb4zE7JqeSNrTXtNCWjgbUqp+6kiubuO+lSo0Y5ZuGMMmbhzym1WDm6Lp/qW62/viGv7luVpZd/Ud5iv4suWtPSdD6yXn+eZMVyN9Nxt/5qnq7+JI/bpvwIhlYMuTDMht4irJdWmWBDzKqRjaVd5hp5HmVq6VB1e5S5tIEXzx8wCUVkaMzjm5KPyl2ZdR1G0FDFk4pZrynyqFjFcf1bygd3cRZ50b/d3xqeVWwP4i3m1XnFPPWxg3NrZertUXSqj+DTrAh0ucZjSs4qy7gOBCDQRQKL+vslfqfBlJyKubQQhmR4ZuTt2/L5V5/Jr3/3U/nLjeJzNCkxJaeSN7bWYEqq3zgWjurqbrMyE39lEWzL1ZdXZen76/Jp7MKUtITm9Zk8nhf5husqs6rhjP7haFT1n3PY70i0Rph3VGNpwDAzlxt1nlF2/40yVxVPetdiGdzQ9e/FlKx2MWrzrzL+mh4qYU3SwgzUxma1pt5zMiutleEaz9FfmkvDUs9TMD4pfYOxiE3vzizmCUZnfw0DcxuN7cdRdLJj+DwbAl2u8ZiSs8kxrgIBCHSTwKL+fonfafT3qwWQN2i1MIZgG18kU+2cxJScSp7ZWtNOU7J8mc2pASMsVJDS/Ort0JtcVbFwJjez45miKZl6GZF9tmP5MpueSWnWHOc5KPEF3OUzQ793uf5MympE3AmpXopTHa9+slOyIpH+SR6nucztaDSWcp5jo3a3Dbv1eqgpV6x2JGOpNMf6JtcgqZHmCcOq3X+DU/SOjDJX31TT5ltviqJRGnbVzsDBn31Drj+yYJtaa7ymMghjnL3PuaZkxaIfg52/YNXvL2Ksx9fEqn48FdugKSrlDtDU2vt8+q36NfrHac2fQJdrPKbk/POPCFpOoLwbaSk8f7/3N/09vuUrIbw5EFjU3y/xOw2m5FTMpYU1RjElp5ovtta005Tc2pAjy6uSNq3uyVv77NuZJ1O1LZzJzOp8lpFNSZG7PwnPmTwjm/o273L5W++HN62vydX4OvVCw6U3byXgPJYrR/Vt4YOnYEoOMtFHyGNNowXtEczDdJSVOdlgaI4w727GUvElzRpjg9HsNk9vxCRNybPX5X58E3lDfEPXH9ilxtVNv17cQ16uU+xSTBl/erTdKVn0RW6lsZk2Ja22Or7imkkTMXAeapjqeao4U8eqvsGfI2s+OJQjUybQ5RqPKTnl5GJ6/wSe7siTL7cH/u4kvpv7XywrmDSBRf39Unzftd+5Jk1vtvMFrRbWEGzDzklMyanml6017TQlZcjbmeMuyvoLViZVAiycSc3rep4MU3LnxuuytPycDL40vdxF+Rfvlbd6l59TL8Upd1E+/156F2VgiSk5PKPI4+F8Zt+bZwbV4xtihg015YpZmo2lYt6+sVW/qv3UPI85c8KmZLjVudg1mTAYh64/ME+MGbJbcMA0DEuL6wnzDNGhQpCMp9A+GJsD8ydZ6VzBlKzQ8rNOoMs1HlOyngt8ggAEIDBJAov6+wVTckYvi2mDmTipGDAlMSVDcf30vcOytHzYGFw7svnmQVkKt/ZO4f/4LWoh3tMvqwxTUnZuxZffrLx2Q/rv5BaRz4u3qR/b2O6FsnPzdVkJb+82b1j/9HLYUXlCrnzZO3WggSk5gKR2gDyu4WjFh/hlqLezLS+kRkMwaYLV506PLQ3JYbeG16eR9DzmpPAxabTVzxtlLmvgxTH2tpuh65+QKSlSrP3sdQnPt6w927G+rOYX71TGZngrt86BJCttSpbXTuhUZ5gyTOvzFKGmjtlF9D/Xr9E/Tmv+BLpc4zEl559/RAABCCwugUX9/ZL8HulcxqAVOyWnaLZiSk41v2ytaelOSRHZuSdvHVqVpQMvyKn1G7J584a8+8PnZGX5WTl1p2Z5TaykWDgTm9jzRDmmpIiE27SD2fjtl9+RKzdvyebGefnegVUZeHu3hNu098vSvufkpQsbsnnzllw594LsW94vR9abd0kGlJiSwxOKPB7OZz69pRFojbVoelU7+h7IBWtAReOt4bmKQ025YpVJYymOG34LSxynDLTkPCmQSaOtfmJqrmI3ZD8ma0qKJPgNXf/kTMnqWYzhmZVjmZKVsbl2MtuULN4wbq5bmZy9t65jStYzbPE/dbnGY0oufn6zQghAYH4EFvX3S/zumfgOPj/Se79y0ApTElPSaw7YWtNeUzL8W/36oVx+7bAc2Bce1rxfDnz3dbn8cX+33d7/OddnsHDqvR39lGlKBkpbvzovxw4dKB6wfeBZOXbulmyldrY+fSyb507IwQPFw7j3HToh524+3hU0puRwROTxcD7z7C3Mt/BWZPW3Z0QWO9lqfclbkMsVDDXlinNSBmCxm1FdPxFLHGdNSX1ebFdmqiI6NVMyXKPiU1536PonaUpWO0CNOaiWHZu7xjOGKRkmjvNqvfrmbRECpqSVYtE/d7nGY0ouenazPghAYJ4EFvX3C6bkFM27Sd0u3bZ52Ck5VdPb1pq5mpLzLLqpa1s4qXM4BoG2EyCP264Q8UEAAhAYnwA1fnx2XkeiuVfliBsCvghQa/zoFbTyukvORdyYklPNL1trMCVV7bFwVBdNCLghQB67kYpAIQABCGQToMZnI3M/AM3dS8gCIOCCALXGhUwxyKCVC3OvbTsgR40HU3Kq+WVrDaakqj0WjuqiCQE3BMhjN1IRKAQgAIFsAtT4bGTuB6C5ewlZAARcEKDWuJApBhm0wpSc4m3pmJJTzS9bazAlVe2xcFQXTQi4IUAeu5GKQCEAAQhkE6DGZyNzPwDN3UvIAiDgggC1xoVMMcigFaYkpqTXHLC1BlNS1R4LR3XRhIAbAuSxG6kIFAIQgEA2AWp8NjL3A9DcvYQsAAIuCFBrXMgUgwxaeTWkXMTNTsmp5petNZiSqvZYOKqLJgTcECCP3UhFoBCAAASyCVDjs5G5H4Dm7iVkARBwQYBa40KmGGTQyoW5N+ozHNt2HqbkVPPL1hpMSVV7LBzVRRMCbgiQx26kIlAIQAAC2QSo8dnI3A9Ac/cSsgAIuCBArXEhUwwyaIUpOcXbt9tmki5YPLbWYEqq2mPhqC6aEHBDgDx2IxWBQgACEMgmQI3PRuZ+AJq7l5AFQMAFAWqNC5likEErTElMSa85YGsNpqSqPRaO6qIJATcEyGM3UhEoBCAAgWwC1PhsZO4HoLl7CVkABFwQoNa4kCkGGbTyakgRN2aqrTWYkqr2WDiqiyYE3BAgj91IRaAQgAAEsglQ47ORuR+A5u4lZAEQcEGAWuNCphhk0ApzD3PPaw7YWoMpqWqPhaO6aELADQHy2I1UBAoBCEAgmwA1PhuZ+wFo7l5CFgABFwSoNS5kikEGrbwaUsSNmWprDaakqj0WjuqiCQE3BMhjN1IRKAQgAIFsAtT4bGTuB6C5ewlZAARcEKDWuJApBhm0wtzD3POaA7bWYEqq2mPhqC6aEHBDgDx2IxWBQgACEMgmQI3PRuZ+AJq7l5AFQMAFAWqNC5likEErr4YUcWOm2lqDKalqj4WjumhCwA0B8tiNVAQKAQhAIJsANT4bmfsBaO5eQhYAARcEqDUuZIpBBq0w9zD3vOaArTWYkqr2WDiqiyYE3BAgj91IRaAQgAAEsglQ47ORuR+A5u4lZAEQcEGAWuNCphhk0MqrIUXcmKm21mBKqtpj4agumhBwQ4A8diMVgUIAAhDIJkCNz0bmfgCau5eQBUDABQFqjQuZYpBBK8w9zD2vOWBrDaakqj0WjuqiCQE3BMhjN1IRKAQgAIFsAtT4bGTuB6C5ewlZAARcEKDWuJApBhm08mpIETdmqq01mJKq9lg4qosmBNwQII/dSEWgEIAABLIJUOOzkbkfgObuJWQBEHBBgFrjQqYYZNAKcw9zz2sO2FqDKalqj4WjumhCwA0B8tiNVAQKAQhAIJsANT4bmfsBaO5eQhYAARcEqDUuZIpBBq28GlLEjZlqaw2mpKo9Fo7qogkBNwTIYzdSESgEIACBbALeavzW+lFZOn0vsc7HcvnFVVlaLv++uC5btbNMf3neqTu1k9IfHq3LkeUzcjfRe/e0uubyUbn8KHFSyw5507xl+AgHAhAYkUCbas2ja2/L8YsPEpFvydWzJ+X4Wvn37HUZKOMfXer3r52UN67Vf7vUJzXzNZx//6K65trbcvWL+iyz/hS0wtzD3POaA7bWYEqqCmLhqC6aEHBDgDx2IxWBQgACEMgm4KXG18y/AVOyNBx7x+3ngKU4NpIJWVG8c6ZvciZMyRiTMj+jYZo4r5quLT+9aN4WXsQBAQiMR6ANtaZm/g2YkqWB2DtuP4tINCSVafjFdXlj7aRc+KiByUeX6n2J82NMyvyMhunaJbnfMOUsDgetvBpSxI2ZamsNpqSqGhaO6qIJATcEyGM3UhEoBCAAgWwCLmp8NAeLnYrRCOyZj+VyVX8PQNzdqHcu3pNTy6syuimpzh9p/nDlwvg8sv64F0YbGy40byM4YoIABLIIzL3WREOxMPuiEdgzH8tlqP7ewqKJWJmQhUlpd0ZGE1GZir2xDY3atWvzVwPS16l6Z/EzaIW5h7nnNQdsrcGUVFXDwlFdNCHghgB57EYqAoUABCCQTcBbjU+ZkqljIspUjFTCZ21SGlTRxGwwLRtNycFbuptvLzfXm+NHb5rPERWXhgAE9kCgTbWmZgyWa0odE3kgF3o7IQuzcGBXZDQWy52NiZ2QFlntOnqsOrH59nJ10hSbQSuvhhRxY6baWoMpqYqFhaO6aELADQHy2I1UBAoBCEAgm4C3Gj9oQDbtTjTHS9Ox98xJu2tyLFNy0OSM8alburMFmcEAb5rPAAmXgAAEpkCgTbWmZgzGtTbtTtTHdVsB0rd072pKapNTROL51U7M/pwxvozdl/2Rk2kFrTD3MPe85oCtNZiSqi5YOKqLJgTcECCP3UhFoBCAAASyCXir8WObkpZM3P3YsDMyea7dFVmYnkvagCznrB2zc7XgszfNW4CMECAAgTEItKnWjGdKihTPe9QmYmEyHh/p5TSFqXm8ZjYmjkWT86TUzxsD+B6GBK28GlLEjZlqaw2mpCoGFo7qogkBNwTIYzdSESgEIACBbALeavzETEkRibdaa1OxiV7q9u14bmlMVm/8Pn2vmNM+87Jp3jkd96b5nDBxWQhAYI8E2lRrxjUlA4LCmKzeln1J7jfcgl3DVe6gHOmN3xcfFNewz7ysTTjdD0ErzD3MPa85YGsNpqSqFxaO6qIJATcEyGM3UhEoBCAAgWwC3mr8oCkpkjo2+EzJQTR7NyUH5wyx8KKbQS4cgQAEukegTb9fBk1JkdSx+jMlGzQLOxtrux/NeeXOx4FnUZrT9McQi32hju6fdjto5dWQalfcP5ff/vEP8uHtUQ3O3PNHnbdb59lagympKoaFo7poQsANAfLYjVQECgEIQCCbgLcanzIgk+ZifEakveW6jic1V/2M8lPjTklzdrzm4HMmzVlz/+hN87kDIwAIQGAsAm2qNSkDMvkW7V13QTY8Z7IipJ83WR3b7WfDcyZ3GzbJ/qBVu8w9Z6ba7dvy+I/fyE78O4IpmXv+JWc8ZhyvrTWYkqo6WDiqiyYE3BAgj91IRaAQgAAEsgl4q/FpI7F403Z/h6J5yU2gcueMnLqj8NhnSua+6EZE7q6vy1ZvShtDr6N1DW+atw4gAUEAAiMRaFOtSZmS1a7I/g7FhOH40XW5+kV/uXEevUuyvE272hU5yo7H+9euy6PelMUzKvsx9Dpm2ghaYUqOa/z9VD786ht5/PlPZSWajbuZkrnnjxtXd8bZWoMpqcqHhaO6aELADQHy2I1UBAoBCEAgm4C3Gp82JcOyC1Owert236AskVQvoame/7hsdjSOY0qeXpXqeuFnzfTMVmJ2A7xpPjsyXAkCEJgkgTbVmrQpGVZbvbimeGbkgDlYvYRmrXympH3uY82ULF9iU51b+9l/WU6MRfVVhuYk2efOFbTClJyAiZc0JcMt2qVpaXcQJs+fQBz2Ogv+2dYaTElVASwc1UUTAm4IkMdupCJQCEAAAtkEqPHZyNwPQHP3ErIACLggQK1xIVMMMmiFKTkBMzBpMmJKTju3bK3BlFS1x8JRXTQh4IYAeexGKgKFAAQgkE2AGp+NzP0ANHcvIQuAgAsC1BoXMsUgg1bTNo46MX/SlBxiduaev+A7HsfNEVtrMCVV7bFwVBdNCLghQB67kYpAIQABCGQToMZnI3M/AM3dS8gCIOCCALXGhUwxyKDVuIYQ45TpmGsy5p6PKZnMU1trMCVV7bFwVBdNCLghQB67kYpAIQABCGQToMZnI3M/AM3dS8gCIOCCALXGhUwxyKAV5qIyF8c1/3JNxtzzx41rwcfZWoMpqWqPhaO6aELADQHy2I1UBAoBCEAgmwA1PhuZ+wFo7l5CFgABFwSoNS5kikEGrTAlMSW95oCtNZiSqvZYOKqLJgTcECCP3UhFoBCAAASyCVDjs5G5H4Dm7iVkARBwQYBa40KmGGTQyqsh1aq4kzsfedHNtDWytQZTUtUeC0d10YSAGwLksRupCBQCEIBANgFqfDYy9wPQ3L2ELAACLghQa1zIFIMMWk3bOOrE/JiSc8kjW2swJVXtsXBUF00IuCFAHruRikAhAAEIZBOgxmcjcz8Azd1LyAIg4IIAtcaFTDHIoFUnTMMFf7ZiVzW0tQZTUtUeC0d10YSAGwLksRupCBQCEIBANgFqfDYy9wPQ3L2ELAACLghQa1zIFIMMWnXV0GLdE3iW5pzNXltrMCVV7bFwVBdNCLghQB67kYpAIQABCGQToMZnI3M/AM3dS8gCIOCCALXGhUwxyKAV5px/c66rGtpagympao+Fo7poQsANAfLYjVQECgEIQCCbADU+G5n7AWjuXkIWAAEXBKg1LmSKQQatumposW7/ZqytNZiSqvZYOKqLJgTcECCP3UhFoBCAAASyCVDjs5G5H4Dm7iVkARBwQYBa40KmGGTQCnPOvznXVQ1trcGUVLXHwlFdNCHghgB57EYqAoUABCCQTYAan43M/QA0dy8hC4CACwLUGhcyxSCDVl01tFi3fzPW1hpMSVV7LBzVRRMCbgiQx26kIlAIQAAC2QSo8dnI3A9Ac/cSsgAIuCBArXEhUwwyaIU559+c66qGttZgSqraY+GoLpoQcEOAPHYjFYFCAAIQyCZAjc9G5n4AmruXkAVAwAUBao0LmWKQQauuGlqs278Za2sNpqSqPRaO6qIJATcEyGM3UhEoBCAAgWwC1PhsZO4HoLl7CVkABFwQoNa4kCkGGbTCnPNvznVVQ1trMCVV7bFwVBdNCLghQB67kYpAIQABCGQToMZnI3M/AM3dS8gCIOCCALXGhUwxyKBVVxBUUk4AAAGuSURBVA0t1u3fjLW1BlNS1R4LR3XRhIAbAuSxG6kIFAIQgEA2AWp8NjL3A9DcvYQsAAIuCFBrXMgUgwxaYc75N+e6qqGtNZiSqvZYOKqLJgTcECCP3UhFoBCAAASyCVDjs5G5H4Dm7iVkARBwQYBa40KmGGTQqquGFuv2b8baWoMpqWqPhaO6aELADQHy2I1UBAoBCEAgmwA1PhuZ+wFo7l5CFgABFwSoNS5kikEGrTDn/JtzXdXQ1ppGUzKcyF8YkAPkADlADpAD5AA5QA6QA+QAOUAOkAPkADlADpAD5MAkckD/L4BGU3J7e1u69jfA7dqaWe/i5Tl5vHia8u8UTckBcqDKAWp893IBzbunefXvnZ9oP8scoNb4ybegVVd32bFu/ztEQ/7qP5iSynylEPspxLP8Be3tWuQxeewtZ4mXnCUHRs8BavzorBYlr9C8e5ovSu6yDl+5S63xo1fQCnPOvznXVQ1D/uo/mJKYkuwOVTmwCF+e+ELh5wvFIuQbayDfyIHZ5gA1fra825DfaN49zduQd8TQvbyj1vjRPGjVVUOLdfs3Y0P+6j//D9q+7IUyQ7JBAAAAAElFTkSuQmCC)"
      ]
    }
  ]
}