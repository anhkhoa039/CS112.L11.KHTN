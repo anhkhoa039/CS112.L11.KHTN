{
  "nbformat": 4,
  "nbformat_minor": 0,
  "metadata": {
    "colab": {
      "name": "Khoa_So.ipynb",
      "provenance": [],
      "toc_visible": true,
      "authorship_tag": "ABX9TyOOhbeBvJraIatMpzfpNFfQ",
      "include_colab_link": true
    },
    "kernelspec": {
      "name": "python3",
      "display_name": "Python 3"
    }
  },
  "cells": [
    {
      "cell_type": "markdown",
      "metadata": {
        "id": "view-in-github",
        "colab_type": "text"
      },
      "source": [
        "<a href=\"https://colab.research.google.com/github/anhkhoa039/CS112.L11.KHTN/blob/master/week5/Khoa_So.ipynb\" target=\"_parent\"><img src=\"https://colab.research.google.com/assets/colab-badge.svg\" alt=\"Open In Colab\"/></a>"
      ]
    },
    {
      "cell_type": "markdown",
      "metadata": {
        "id": "2mQkdCUef8mK"
      },
      "source": [
        "# **Nhóm:    N010**\n",
        "# Thành viên:\n",
        "### *Nguyễn Anh Khoa - 18520923*\n",
        "### *Võ Quốc An - 18520440*\n",
        "### *Trần Thị Phương Thảo - 18521422*"
      ]
    },
    {
      "cell_type": "markdown",
      "metadata": {
        "id": "_pd8UJNXgK9q"
      },
      "source": [
        "# **KHÓA SỐ (0.15s, 100MB)**\n",
        "\n",
        "Để tăng độ an toàn chống hiện tượng cướp ngân hàng ngày càng phổ biến người ta dùng khóa số với mã mở khóa đơn giản nhưng rất hiệu quả. Trên cửa ra vào hiển thị một xâu khá dài các ký tự số. Các chữ số có thể di chuyển đổi chổ cho nhau hoặc bị xóa. Muốn mở khóa người ta phải di chuyển các chữ số và trong trường hợp cần thiết – xóa vài chữ số để nhận được xâu lớn nhất thỏa mãn điều kiện đã cài đặt. Điều kiện này được thay đổi thường xuyên. Hôm nay điều kiện đó là “Số nhận được phải chia hết cho 3”. Số nhận được có thể bắt đầu bằng các chữ số 0. Xâu “000” sẽ lớn hơn xâu “00”.\n",
        "\n",
        "Hãy xác định khóa mở cửa.\n",
        "\n",
        "***Dữ liệu:*** Vào từ thiết bị nhập chuẩn gồm một xâu ký tự số có độ dài lớn hơn 2 và không vượt quá 105.\n",
        "\n",
        "***Kết quả:*** Đưa ra thiết bị xuất chuẩn xâu khóa mở cửa.\n",
        "\n",
        "***Ví dụ:***\n",
        "\n",
        "![image.png](data:image/png;base64,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)"
      ]
    },
    {
      "cell_type": "markdown",
      "metadata": {
        "id": "LQfqytexhJf5"
      },
      "source": [
        "##**1. Abstraction:** \n",
        "Tìm dãy con chia hết cho 3 lớn nhất \n",
        "\n",
        "##**2-3. Decomposition & Pattern Recognition:**  \n",
        "### ***Decomposition:***\n",
        "Có thể chia công việc của bài toán thành 2 phần là: tìm dãy con chia hết cho 3 + tìm dãy con lớn nhất\n",
        "### ***Pattern Recognition:***\n",
        "\n",
        "## **4. Algorithm designed:**\n",
        "Tìm dãy con chia hết cho 3 có số phần tử lớn nhất sau đó sắp sếp dãy số đã tìm được theo thứ tự từ lớn đến bé (giảm dần).\n",
        "####***Ví dụ:*** \n",
        "\n",
        "***Input:*** 1972416\n",
        "\n",
        "Dãy con chia hết cho 3 có số phần tử lớn nhất: 197416\n",
        "\n",
        "Sắp xếp giảm dần: 976411\n",
        "\n",
        "***Input:*** 27516\n",
        "\n",
        "Dãy con chia hết cho 3 có số phần tử lớn nhất: 27516\n",
        "\n",
        "Sắp xếp giảm dần: 76521\n",
        "\n",
        "***Input:*** 862852\n",
        "\n",
        "Dãy con chia hết cho 3 có số phần tử lớn nhất: 86281\n",
        "\n",
        "Sắp xếp giảm dần: 88621\n",
        "\n",
        "**a dãy vào, n = len(a)**\n",
        "\n",
        "**sum = tổng tất cả các chữ số trong a, i in range(0, n)**\n",
        "\n",
        "Dựa vào ví dụ trên ta thấy: \n",
        "\n",
        "*   Nếu sum chia hết cho 3 thì chỉ cần sắp sếp lại dãy ta thu được hết quả.\n",
        "*   Nếu sum chia 3 dư x, ta loại bỏ chữ số ai, sao cho ai bé nhất trong các chữ sỗ thuộc dãy vào mà thảo mãn chia 3 dư x.\n",
        "\n",
        "Nhưng nếu sum % 3 = x, những trong dãy a không có chữ số ai nào thỏa mãn ai %3 = x thì chũng ta cần loại bỏ chữ số nào?\n",
        "\n",
        "####***Ví dụ:*** \n",
        "\n",
        "***Input:*** 32026\n",
        "\n",
        "***Output:*** 730\n",
        "\n",
        "***Input:*** 63164\n",
        "\n",
        "***Output:*** 663\n",
        "\n",
        "Trong ví dụ 1: 32026 % 3 = 1, Output đã bỏ đi 2 số 2\n",
        "\n",
        "Trong ví dụ 2: 63164 % 3 = 2, Output đã bỏ đi 1 và 4\n",
        "\n",
        "Ta nhận thấy ***(2 + 2) = 4 % 3 = 1, (1 + 4) = 5 % 3 = 2***. Tổng 2 chữ sổ chia 3 dư 1 sẽ là 1 số chia 3 dư 2, và Tổng 2 chữ sổ chia 3 dư 2 sẽ là 1 số chia 3 dư 1.\n",
        "\n",
        "Vì a % 3 dư chỉ có 2 trường hợp là dư 2 hoặc 1. a % 3 = x thì:\n",
        "\n",
        "*   Tồn tại chữ số ai trong a, sao cho ai % 3 = x.\n",
        "*   Hoặc tồn tại 2 chữ số ai, aj trong a, sao cho ai%3=(x*2)%3 và aj%3=(x*2)%3.\n",
        "\n",
        "Ở trường hợp 2 chúng ta sẽ loại tìm và loại bỏ ai, aj khỏi a để thu được dãy chia hết cho 3.\n",
        "\n",
        "\n",
        "\n",
        "\n"
      ]
    },
    {
      "cell_type": "code",
      "metadata": {
        "id": "niaKx-vOf5k5",
        "outputId": "d4480fa9-87b9-4f09-c409-fcd5d2eee96f",
        "colab": {
          "base_uri": "https://localhost:8080/",
          "height": 51
        }
      },
      "source": [
        "s = input()\n",
        "a = list(s)\n",
        "int_s = int(s)\n",
        "a.sort()\n",
        "\n",
        "# Nếu dãy chia hết cho 3 thì sx dãy giảm gần, in dãy -> thoát\n",
        "if int_s % 3 == 0:\n",
        "    a.reverse()\n",
        "    print(''.join(a))\n",
        "    exit()\n",
        "\n",
        "x = int(int_s % 3)\n",
        "\n",
        "# Hàm trả về vị trí i trong a sao cho a[i] % 3 = x, nếu không trả về -1\n",
        "def ind1(a, x):\n",
        "    ind = -1\n",
        "    if str(x) in a:\n",
        "        ind = a.index(str(x))\n",
        "    elif str(x + 3) in a:\n",
        "        ind = a.index(str(x+3))\n",
        "    elif str(x + 6) in a:\n",
        "        ind = a.index(str(x+6))\n",
        "    return ind\n",
        "\n",
        "# Hàm trả về vị trí i, j trong a sao cho a[i] % 3 = x, a[j] % 3 = x, nếu không trả về -1, -1\n",
        "def ind2(a, x):\n",
        "    i1 = ind1(a, x)\n",
        "    i2 = ind1(a[i1+1:], x) + i1 + 1\n",
        "    return i1, i2\n",
        "\n",
        "# Tìm và xóa vị trí không thỏa mãn điều kiện, sắp xếp lại dãy giảm dần, in dãy\n",
        "ind = ind1(a, x)\n",
        "if ind == -1:\n",
        "    i1, i2 = ind2(a, (x*2)%3)\n",
        "    if i1 != -1 and i2 != -1:\n",
        "        a.remove(a[i1])\n",
        "        a.remove(a[i2-1])\n",
        "\n",
        "        a.reverse()\n",
        "\n",
        "        if len(a) == 1:\n",
        "            print(str(a[0]))\n",
        "            exit()\n",
        "        else:\n",
        "            print(''.join(a))\n",
        "            exit()\n",
        "else:\n",
        "    a.remove(a[ind])\n",
        "    a.reverse()\n",
        "    if a != []:\n",
        "        print(''.join(a))\n",
        "        exit()"
      ],
      "execution_count": 1,
      "outputs": [
        {
          "output_type": "stream",
          "text": [
            "63164\n",
            "663\n"
          ],
          "name": "stdout"
        }
      ]
    }
  ]
}