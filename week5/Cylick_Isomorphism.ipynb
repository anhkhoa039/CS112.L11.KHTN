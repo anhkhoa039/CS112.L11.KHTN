# CYCLIC ISOMORPHISM

Given a string s and n string $x_{i}$, for each string $x_{i}$, 
find the number of successive subtrings of s that are cyclically isomorphism to $x_{i}$

Two strings are called **Cyclically isomorphism** strings if one strings is a **rotation** ò the other.
**Rotation** is definded as an operation of rearranging the chacacters in a string by moving some 
consecutive characters (maybe none) from the begginning to the end of the string in the same order, 
while shifting all other characters to the preceding position.   
For example, the string "bcda" is a **rotation** of "abcd", but the string "bdca" is not a **rotation** of "abcd"  

Tạm dịch:  
input chuỗi s và n chuỗi $x_{i}$, với mỗi chuỗi $x_{i}$, 
tìm số chuỗi con của s là cyclically isomorphism với $x_{i}$
2 chuỗi gọi là isomorphism nếu 1 chuỗi này là rotation của chuỗi kia.
**Rotation:** là sắp xếp lại các kí tự của chuỗi đó bằng cách di chuyển 
1 số kí tự liên tục (hoặc k liên tục) từ đầu đến cuối chuỗi theo cùng 1 thứ tự và dịch chuyển các kí tự còn lại 
về vị trí trước kí tự đó  
Ví dụ:
"bcda" là a rotation của "abcd", nhưng chuỗi "bdca" không là rotation của chuỗi "abcd"

##Input: 
- Dòng đầu tiên: chuỗi s (len(s) <= $10^6$ ) 
- Dòng thứ 2: 11 số nguyên dương n ($1<=n<= 10^5$), số chuỗi con
- N dòng tiếp theo: dòng thứ i chứa chuỗi $x_{i}$ (len($x_{i}$) < = $10^6$)
(các kí tự trong chuỗi đều in thường tiếng anh)
## Output": 
xuất ra n dòng, với mỗi dòng là số lượng chuỗi con của s là cyclick isomorphism với chuỗi $x_{i}$


