{
  "nbformat": 4,
  "nbformat_minor": 0,
  "metadata": {
    "colab": {
      "name": "#1BOT.ipynb",
      "provenance": [],
      "collapsed_sections": [],
      "include_colab_link": true
    },
    "kernelspec": {
      "name": "python3",
      "display_name": "Python 3"
    }
  },
  "cells": [
    {
      "cell_type": "markdown",
      "metadata": {
        "id": "view-in-github",
        "colab_type": "text"
      },
      "source": [
        "<a href=\"https://colab.research.google.com/github/anhkhoa039/CS112.L11.KHTN/blob/master/week5/report_tuan5.ipynb\" target=\"_parent\"><img src=\"https://colab.research.google.com/assets/colab-badge.svg\" alt=\"Open In Colab\"/></a>"
      ]
    },
    {
      "cell_type": "markdown",
      "metadata": {
        "id": "MRWE4NP5Jshu"
      },
      "source": [
        "#BOT"
      ]
    },
    {
      "cell_type": "markdown",
      "metadata": {
        "id": "cYCUrb2eX0XU"
      },
      "source": [
        "BOT (Built-Operation-Transfer, có nghĩa: Xây dựng-Vận hành-Chuyển giao) là hình thức Chính phủ kêu gọi các công ty bỏ vốn xây dựng trước (Built) thông qua đấu thầu, sau đó khai thác vận hành một thời gian (Operation) và sau cùng là chuyển giao ( Transfer) lại cho nhà nước sở tại. Đường cao tốc xuyên quốc gia được xây dựng theo hình thức BOT. Công ty Đa quốc gia Modern Highway trúng thầu, chia toàn bộ con đường thành n đoạn. Theo tính toán của Công ty sau khi chuyển giao con đường cho chính phủ sở tại quản lý thì lãi thu được ở đoạn đường thứ i là ai, ai có thể dương, âm hoặc bằng 0, tức là với từng đoạn con có thể lãi, lỗ hoặc hòa vốn. Từng nhóm các đoạn đường liên tiếp nhau (gọi tắt là khoảng) được chia cho các công ty con thực hiện. Công ty con ASEAM Highway hiện đang có trụ sở ở nước sở tại được quyền chọn trước khoảng tùy ý (có thể là cả con đường). Dĩ nhiên Ban Giám đốc ASEAM Highway muốn chọn khoảng bắt đầu từ đoạn p đến hết đoạn q mang lại lợi nhuận cao nhất hoặc lỗ ít nhất nếu không có khoảng nào cho lãi. Hãy chỉ ra khoảng cần chọn và lãi thu được. Nếu có nhiều cách chọn thì chỉ ra cách chọn có p nhỏ nhất.\n",
        "\n",
        "Dữ liệu: Vào từ thiết bị nhập chuẩn:\n",
        "\n",
        "Dòng đầu tiên chứa số nguyên n (1 ≤ n ≤ 106)\n",
        "Dòng thứ 2 chứa n số nguyên a1, a2, . . ., an (0 ≤ |ai| ≤ 109 , i = 1 ÷ n)\n",
        "Kết quả: Đưa ra thiết bị xuất chuẩn trên một dòng 2 số nguyên p, q và lãi thu được.\n",
        "\n",
        "Ví dụ:\n",
        "\n",
        "\n",
        "\n",
        "![Capture.PNG](data:image/png;base64,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)"
      ]
    },
    {
      "cell_type": "markdown",
      "metadata": {
        "id": "i3BqsWVyJ2wV"
      },
      "source": [
        "##1. Abstraction: phát biểu lại bài toán chỉ bằng 1 câu\n",
        "Một dãy gồm n số nguyên a1, a2, …, an, tìm một đoạn con(dãy gồm các phần tử liên tiếp nhau) có tổng lớn nhất."
      ]
    },
    {
      "cell_type": "markdown",
      "metadata": {
        "id": "i1qA1YBpKWUx"
      },
      "source": [
        "##2. Pattern Recognition: tên dạng bài toán/kỹ thuật được áp dụng\n",
        "Quy hoạch động"
      ]
    },
    {
      "cell_type": "markdown",
      "metadata": {
        "id": "ezfUUKVIKeqo"
      },
      "source": [
        "##3. Algorithm designed: thuật toán để giải quyết bài toán (trình bày bằng mã giả)"
      ]
    },
    {
      "cell_type": "code",
      "metadata": {
        "id": "iw6ztMldKzB2"
      },
      "source": [
        "# Mã giả\n",
        "input() nhập n\n",
        "input() dãy số nguyên a cách nhau bở dấu \" \"\n",
        "\n",
        "Gán giá trị cho Tổng mảng con lớn nhất ban đầu là giá trị cực nhỏ (maxsum = -10000000000000000)\n",
        "Tổng mảng con ban đầu bằng 0 (sum = 0)\n",
        "Vị trí đầu tiên của mảng (p = 1)\n",
        "\n",
        "Sử dụng vòng lặp for duyệt từng phần tử của a:\n",
        "\t  i chạy từ 0 -> n - 1\n",
        "\t  sum = sum + a[i]\n",
        "    if sum < 0 (mảng con có tổng âm) thì \n",
        "          đưa sum về 0 (bắt đầu tính lại tổng mảng con mới)\n",
        "          thay đổi vị trí bắt đầu mảng con mới là vị trí tiếp theo trong a: p = i + 2\n",
        "\t  if maxsum < sum (tổng mảng con lớn nhất cũ nhỏ hơn tổng mảng con vừa tính) thì:\n",
        "          maxsum = sum\n",
        "          vị trí bắt đầu mảng con = p\n",
        "          vị trí kết thúc mảng con = i + 1\n",
        "\n",
        "print(vị trí bất đầu, vị trí kết thúc, tổng lớn nhất của mảng con)"
      ],
      "execution_count": null,
      "outputs": []
    },
    {
      "cell_type": "markdown",
      "metadata": {
        "id": "5-49YSx6MqLi"
      },
      "source": [
        "##4. Programming: cài đặt chương trình bằng NNLT Python\n",
        "Link Github: https://github.com/anhkhoa039/CS112.L11.KHTN/blob/master/exercise/bot.py\n"
      ]
    },
    {
      "cell_type": "code",
      "metadata": {
        "id": "h8NOsVj3M2lU",
        "outputId": "cc2c4d0f-7248-44f2-f167-e4f8645a6d8f",
        "colab": {
          "base_uri": "https://localhost:8080/",
          "height": 67
        }
      },
      "source": [
        "\n",
        "def BOT():\n",
        "    n = int(input())\n",
        "    a = [int(x) for x in input().split(\" \")]\n",
        "    maxsum = -1000000000000000000\n",
        "    sum = 0\n",
        "    p = 1\n",
        "    for i in range(0, n):\n",
        "        sum += a[i]\n",
        "        if (sum < 0):\n",
        "            sum = 0\n",
        "            p = i + 2\n",
        "        if(maxsum < sum):\n",
        "            maxsum = sum\n",
        "            star = p\n",
        "            end = i + 1\n",
        "    print(star,end,maxsum,end=' ')\n",
        "BOT()"
      ],
      "execution_count": null,
      "outputs": [
        {
          "output_type": "stream",
          "text": [
            "16\n",
            "2 -4 5 -8 4 -1 -1 1 1 1 -2 2 4 -6 9 -4\n",
            "5 15 12 "
          ],
          "name": "stdout"
        }
      ]
    }
  ]
}