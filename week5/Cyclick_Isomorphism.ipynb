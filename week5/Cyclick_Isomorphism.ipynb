{
  "nbformat": 4,
  "nbformat_minor": 0,
  "metadata": {
    "colab": {
      "name": "Overview of Colaboratory Features",
      "provenance": [],
      "collapsed_sections": [],
      "toc_visible": true
    },
    "kernelspec": {
      "display_name": "Python 3",
      "name": "python3"
    }
  },
  "cells": [
    {
      "cell_type": "markdown",
      "metadata": {
        "id": "jiY7BtxZSAhh"
      },
      "source": [
        "# CYCLIC ISOMORPHISM\n",
        "\n",
        "Given a string s and n string $x_{i}$, for each string $x_{i}$, \n",
        "find the number of successive subtrings of s that are cyclically isomorphism to $x_{i}$\n",
        "\n",
        "Two strings are called **Cyclically isomorphism** strings if one strings is a **rotation** ò the other.\n",
        "**Rotation** is definded as an operation of rearranging the chacacters in a string by moving some \n",
        "consecutive characters (maybe none) from the begginning to the end of the string in the same order, \n",
        "while shifting all other characters to the preceding position.   \n",
        "For example, the string \"bcda\" is a **rotation** of \"abcd\", but the string \"bdca\" is not a **rotation** of \"abcd\"  \n",
        "\n",
        "###**Tạm dịch:**  \n",
        "Input chuỗi s và n chuỗi $x_{i}$, với mỗi chuỗi $x_{i}$, \n",
        "tìm số chuỗi con của s là cyclically isomorphism với $x_{i}$\n",
        "2 chuỗi gọi là isomorphism nếu 1 chuỗi này là rotation của chuỗi kia.\n",
        "**Rotation:** là sắp xếp lại các kí tự của chuỗi đó bằng cách di chuyển \n",
        "1 số kí tự liên tục (hoặc k liên tục) từ đầu đến cuối chuỗi theo cùng 1 thứ tự và dịch chuyển các kí tự còn lại \n",
        "về vị trí trước kí tự đó  \n",
        "Ví dụ:\n",
        "\"bcda\" là a rotation của \"abcd\", nhưng chuỗi \"bdca\" không là rotation của chuỗi \"abcd\"  \n",
        "## Input: \n",
        "- Dòng đầu tiên: chuỗi s (len(s) <= $10^6$ ) \n",
        "- Dòng thứ 2: 11 số nguyên dương n ($1<=n<= 10^5$), số chuỗi con\n",
        "- N dòng tiếp theo: dòng thứ i chứa chuỗi $x_{i}$ (len($x_{i}$) < = $10^6$)  \n",
        "(các kí tự trong chuỗi đều in thường tiếng anh)  \n",
        "\n",
        "## Output: \n",
        "xuất ra n dòng, với mỗi dòng là số lượng chuỗi con của s là cyclick isomorphism với chuỗi $x_{i}$\n",
        "\n",
        "\n"
      ]
    }
  ]
}