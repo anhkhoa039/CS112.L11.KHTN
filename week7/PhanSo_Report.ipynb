{
  "nbformat": 4,
  "nbformat_minor": 0,
  "metadata": {
    "colab": {
      "name": "PhanSo_Report.ipynb",
      "provenance": [],
      "collapsed_sections": [],
      "authorship_tag": "ABX9TyNLmcYbU5xmoEJR6VDseK1W",
      "include_colab_link": true
    },
    "kernelspec": {
      "name": "python3",
      "display_name": "Python 3"
    }
  },
  "cells": [
    {
      "cell_type": "markdown",
      "metadata": {
        "id": "view-in-github",
        "colab_type": "text"
      },
      "source": [
        "<a href=\"https://colab.research.google.com/github/anhkhoa039/CS112.L11.KHTN/blob/master/week7/PhanSo_Report.ipynb\" target=\"_parent\"><img src=\"https://colab.research.google.com/assets/colab-badge.svg\" alt=\"Open In Colab\"/></a>"
      ]
    },
    {
      "cell_type": "markdown",
      "metadata": {
        "id": "2dyrY6HRp03t"
      },
      "source": [
        "# **Nhóm:    N010**\n",
        "# Thành viên:\n",
        "### *Võ Quốc An - 18520440*\n",
        "### *Nguyễn Anh Khoa - 18520923*\n",
        "### *Trần Thị Phương Thảo - 18521422*"
      ]
    },
    {
      "cell_type": "markdown",
      "metadata": {
        "id": "8xou63LOp74E"
      },
      "source": [
        "# **PHÂN SỐ** \n",
        "Cho 2 phân số đúng và tối giản **a**/**b**, **c/d**. Mỗi phép biến đổi là tăng **a** và **b** lên 1, sau đó giản ước phân số nhận được.\n",
        "\n",
        "Hãy xác định sau bao nhiêu bước biến đổi từ phân số thứ nhất ban đầu nhận được phân số thứ 2 đã cho.\n",
        "\n",
        "\n",
        "**Dữ liệu**: Vào từ thiết bị nhập chuẩn gồm 4 dòng, mỗi dòng chứa 1 số nguyên **a**, **b**, **c**, **d**, 0 < **a** < **b** ≤105, 0 < **c** < **d** ≤ 105, **a** và **b** nguyên tố cùng nhau, **c** và **d** nguyên tố cùng nhau **a**/**b** != **c**/**d**\n",
        "\n",
        "**Kết quả**: Đưa ra thiết bị xuất chuẩn số 0 nếu không có cách biến đổi hoặc một số nguyên – số lượng phép biến đổi.\n",
        "\n",
        "**Ví dụ:**\n",
        "\n",
        "<img src= \"https://i.imgur.com/tPfoLDt.png\" class = \"center\" width = 400/>\n"
      ]
    },
    {
      "cell_type": "markdown",
      "metadata": {
        "id": "e-vqO05nYPBq"
      },
      "source": [
        "##**1. Abstraction:** \n",
        "Xác định số phép biến đổi tăng lên 1 của tử và mẫu số của phân số thứ nhất để nhận được phân số thứ 2.\n",
        "\n",
        "##**2-3. Decomposition & Pattern Recognition:**  \n",
        "### ***Decomposition:***\n",
        "### ***Pattern Recognition:***\n",
        "\n",
        "## **4. Algorithm designed:**\n"
      ]
    },
    {
      "cell_type": "code",
      "metadata": {
        "id": "A69kR2cPpqBd",
        "outputId": "839eb8a7-76df-4416-9fd7-58fbb02af9f7",
        "colab": {
          "base_uri": "https://localhost:8080/"
        }
      },
      "source": [
        "from math import *\n",
        "a = int(input())\n",
        "b = int(input())\n",
        "c = int(input())\n",
        "d = int(input())\n",
        "def rutgon(a ,b):\n",
        "    n = gcd(a ,b)\n",
        "    return (a//n), (b//n)\n",
        "\n",
        "def BienDoi(a, b, c, d):\n",
        "    temp = 0\n",
        "    while not (a == c and b == d) or (a/b > c/d):\n",
        "        a, b = rutgon(a + 1, b + 1)\n",
        "        temp += 1\n",
        "        if a/b > c/d:\n",
        "            return 0\n",
        "    return temp\n",
        "\n",
        "print(BienDoi(a, b, c, d))"
      ],
      "execution_count": 1,
      "outputs": [
        {
          "output_type": "stream",
          "text": [
            "1\n",
            "6\n",
            "2\n",
            "3\n",
            "5\n"
          ],
          "name": "stdout"
        }
      ]
    },
    {
      "cell_type": "code",
      "metadata": {
        "id": "OxiQ2YfLb9dS"
      },
      "source": [
        ""
      ],
      "execution_count": null,
      "outputs": []
    }
  ]
}