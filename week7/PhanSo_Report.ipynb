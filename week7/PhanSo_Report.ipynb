{
  "nbformat": 4,
  "nbformat_minor": 0,
  "metadata": {
    "colab": {
      "name": "PhanSo_Report.ipynb",
      "provenance": [],
      "collapsed_sections": [],
      "include_colab_link": true
    },
    "kernelspec": {
      "name": "python3",
      "display_name": "Python 3"
    }
  },
  "cells": [
    {
      "cell_type": "markdown",
      "metadata": {
        "id": "view-in-github",
        "colab_type": "text"
      },
      "source": [
        "<a href=\"https://colab.research.google.com/github/anhkhoa039/CS112.L11.KHTN/blob/master/week7/PhanSo_Report.ipynb\" target=\"_parent\"><img src=\"https://colab.research.google.com/assets/colab-badge.svg\" alt=\"Open In Colab\"/></a>"
      ]
    },
    {
      "cell_type": "markdown",
      "metadata": {
        "id": "2dyrY6HRp03t"
      },
      "source": [
        "# **Nhóm:    N010**\n",
        "# Thành viên:\n",
        "### *Võ Quốc An - 18520440*\n",
        "### *Nguyễn Anh Khoa - 18520923*\n",
        "### *Trần Thị Phương Thảo - 18521422*"
      ]
    },
    {
      "cell_type": "markdown",
      "metadata": {
        "id": "8xou63LOp74E"
      },
      "source": [
        "# **PHÂN SỐ** \n",
        "Cho 2 phân số đúng và tối giản $\\frac{a}{b} $,$\\frac{c}{d}$   . Mỗi phép biến đổi là tăng a và b lên 1, sau đó giản ước phân số nhận được.\n",
        "\n",
        "Hãy xác định sau bao nhiêu bước biến đổi từ phân số thứ nhất ban đầu nhận được phân số thứ 2 đã cho.\n",
        "\n",
        "Dữ liệu: Vào từ thiết bị nhập chuẩn gồm 4 dòng, mỗi dòng chứa 1 số nguyên $$ a, b, c, d, 0 < a < b \\le 10^5, 0 < c < d \\le 10^5,$$ a và b nguyên tố cùng nhau, c và d nguyên tố cùng nhau $ \\frac{a}{b} \\ne \\frac{c}{d}$\n",
        "\n",
        "Kết quả: Đưa ra thiết bị xuất chuẩn số 0 nếu không có cách biến đổi hoặc một số nguyên – số lượng phép biến đổi.\n",
        "\n",
        "\n",
        "**Ví dụ:**\n",
        "\n",
        "<img src= \"https://i.imgur.com/tPfoLDt.png\" class = \"center\" width = 400/>\n"
      ]
    },
    {
      "cell_type": "markdown",
      "metadata": {
        "id": "e-vqO05nYPBq"
      },
      "source": [
        "##**1. Abstraction:** \n",
        "Xác định số phép biến đổi tăng lên 1 của tử và mẫu số của phân số thứ nhất để nhận được phân số thứ 2.\n",
        "\n",
        "##**2-3. Decomposition & Pattern Recognition:**  \n",
        "\n",
        "Xử lý bài toán tìm ước chung lớn nhất của a và b\n",
        " ```python\n",
        "a, b, c, d = map(int, input().split())\n",
        "def rutgon(a, b):\n",
        "  n = gcd(a, b)\n",
        "  return (a//n), (b//n)\n",
        "def BienDoi(a, b, c, d):\n",
        "  temp = 0\n",
        "  while not (a == c and b == d) or (a/b > c/d):\n",
        "    a, b = rutgon(a+1, b+1)\n",
        "    temp += 1\n",
        "    if a/b > c/d:\n",
        "      return 0\n",
        "  return temp\n",
        "print(Biendoi(a, b, c, d))\n",
        " ```\n",
        "\n",
        "## **4. Algorithm designed:**\n"
      ]
    },
    {
      "cell_type": "code",
      "metadata": {
        "id": "A69kR2cPpqBd",
        "colab": {
          "base_uri": "https://localhost:8080/"
        },
        "outputId": "839eb8a7-76df-4416-9fd7-58fbb02af9f7"
      },
      "source": [
        "from math import *\n",
        "a = int(input())\n",
        "b = int(input())\n",
        "c = int(input())\n",
        "d = int(input())\n",
        "def rutgon(a ,b):\n",
        "    n = gcd(a ,b)\n",
        "    return (a//n), (b//n)\n",
        "\n",
        "def BienDoi(a, b, c, d):\n",
        "    temp = 0\n",
        "    while not (a == c and b == d) or (a/b > c/d):\n",
        "        a, b = rutgon(a + 1, b + 1)\n",
        "        temp += 1\n",
        "        if a/b > c/d:\n",
        "            return 0\n",
        "    return temp\n",
        "\n",
        "print(BienDoi(a, b, c, d))"
      ],
      "execution_count": null,
      "outputs": [
        {
          "output_type": "stream",
          "text": [
            "1\n",
            "6\n",
            "2\n",
            "3\n",
            "5\n"
          ],
          "name": "stdout"
        }
      ]
    },
    {
      "cell_type": "markdown",
      "metadata": {
        "id": "aqGFTtK5cvNg"
      },
      "source": [
        "### **Kết quả wecode**\n",
        "\n",
        "![alt text](https://i.imgur.com/huiNBoc.png \"Logo Title Text 1\")"
      ]
    },
    {
      "cell_type": "markdown",
      "metadata": {
        "id": "MIWIb7tto-uN"
      },
      "source": [
        "# **XÂU CON TƯƠNG ĐƯƠNG (1S,50M)** \n",
        "Cho xâu s chỉ chứa các ký tự la-tin thường độ dài n không quá 105. Ký hiệu s[i..j] là xâu con các ký tự liên tiếp nhau của s từ vị trí i đến vị trí j. Hai xâu con x = s[a..b] và y = s[c..d] được gọi là cùng một lớp tương đương nếu có cách đổi chỗ các ký tự trong một xâu để nhận được xâu kia. Các vị trí được đánh số từ 1 trở đi.\n",
        "\n",
        "- Ví dụ: s = “abcbacaac”, s[1..3] tương đương với s[4..6], còn s[1..3] không tương đương với s[5..7].\n",
        "\n",
        "Cho q truy vấn, mỗi truy vấn là 4 số nguyên a, b, c, d xác định các xâu con x và y. Với mỗi truy vấn hãy xác định hai xâu con này có cùng một lớp tương đương hay không và đưa ra câu trả lời tương ứng “YES” hoặc “NO”.\n",
        "\n",
        "Dữ liệu:  \n",
        "\n",
        "- Dòng đầu tiên chứa xâu s,\n",
        "\n",
        "- Dòng thứ 2 chứa số nguyên q (1 ≤  q  ≤ 105),\n",
        "\n",
        "Mỗi dòng trong q dòng tiếp theo chứa 4 số nguyên a, b, c, d (1 ≤ a ≤ b ≤ n, 1 ≤ c ≤ d ≤ n).\n",
        "\n",
        "**Kết quả:** Đưa ra thiết bị xuất chuẩn các câu trả lời xác định được cho mỗi truy vấn, mỗi câu trả lời trên một dòng.\n",
        "\n",
        "**Dữ liệu mẫu:**  \n",
        "\n",
        "**Input** | **Output**  \n",
        "--- | ---  \n",
        "abcbacaac | **YES**  \n",
        "2  |  **NO**\n",
        "1 3 4 6  |\n",
        "1 3 5 7 |  \n",
        "\n"
      ]
    },
    {
      "cell_type": "markdown",
      "metadata": {
        "id": "EwG9Vxr40pit"
      },
      "source": [
        "##**1. Abstraction:** \n",
        "- Từ 4 số nguyên xác định các xâu con x và y của xâu S, xác định x và y có tương đương với nhau hay không\n",
        "\n",
        "##**2-3. Decomposition & Pattern Recognition:**  \n",
        "- So sánh 2 chuỗi con  \n",
        "Ý tưởng: \n",
        "- Lấy ra từng chuỗi con sau đó sắp xếp lại và so sánh 2 chuỗi\n",
        "```python\n",
        "s = str(input())  \n",
        "q = int (input())  \n",
        "flag = [\"NO\"]*q  \n",
        "def check (s, a,b,c,d):\n",
        "    s1 = sorted( s[a-1:b])\n",
        "    s2 = sorted( s[c-1:d])\n",
        "    return s1==s2\n",
        "for i in range (q):\n",
        "    a,b,c,d = map (int, input().split())\n",
        "    if check(s,a,b,c,d) ==True:\n",
        "        flag[i] = \"YES\"\n",
        "for i in flag:\n",
        "    print (i)\n",
        "```\n",
        "> Vấn đề: Hoạt động tốt với xâu có kích thước nhỏ. Xâu có kích thước lớn không đáp ứng được yêu cầu đề bài (1s)  \n",
        "<!-- ![alt text](https://i.imgur.com/P3s1fwC.png \"Logo Title Text 1\")   -->\n",
        "\n",
        "#### **Giải pháp:**\n",
        "- Biểu diễn chuỗi dưới dạng số, thay vì so sánh chuỗi ta so sánh các số. \n",
        "- Kĩ thuật sử dụng: String hashing  \n",
        "=> Pattern Recognition: string hashing\n",
        "## **4. Algorithm designed:**\n"
      ]
    },
    {
      "cell_type": "markdown",
      "metadata": {
        "id": "xGGiSc5m8S6j"
      },
      "source": [
        "#### cách 1:"
      ]
    },
    {
      "cell_type": "code",
      "metadata": {
        "id": "SnhM05FPpBcW",
        "colab": {
          "base_uri": "https://localhost:8080/"
        },
        "outputId": "9a7ba276-25ef-4a6d-cb93-e6c5885b0465"
      },
      "source": [
        "s = str(input())\n",
        "q = int (input())\n",
        "flag = [\"NO\"]*q\n",
        "\n",
        "def check (s, a,b,c,d):\n",
        "    s1 = sorted( s[a-1:b])\n",
        "    s2 = sorted( s[c-1:d])\n",
        "    return s1==s2\n",
        "# print (check(s, a,b,c,d))\n",
        "for i in range (q):\n",
        "    a,b,c,d = map (int, input().split())\n",
        "    if check(s,a,b,c,d) ==True:\n",
        "        flag[i] = \"YES\"\n",
        "\n",
        "for i in flag:\n",
        "    print (i)"
      ],
      "execution_count": null,
      "outputs": [
        {
          "output_type": "stream",
          "text": [
            "abcbacaac\n",
            "2\n",
            "1 3 4 6\n",
            "1 3 5 7\n",
            "YES\n",
            "NO\n"
          ],
          "name": "stdout"
        }
      ]
    },
    {
      "cell_type": "markdown",
      "metadata": {
        "id": "WggnM6uD8VRk"
      },
      "source": [
        "#### cách 2:\n"
      ]
    },
    {
      "cell_type": "code",
      "metadata": {
        "id": "0mfkBqMt3Wkb",
        "colab": {
          "base_uri": "https://localhost:8080/"
        },
        "outputId": "8ac6d020-e278-4032-c4de-85fe525f8287"
      },
      "source": [
        "s =str(input())\n",
        "q = int (input())\n",
        "Hash = [0]\n",
        "\n",
        "\n",
        "for char in s:\n",
        "    Hash.append(Hash[len(Hash) -1] + 31 ** (ord(char) - ord('a')))\n",
        "\n",
        "ans = []\n",
        "for i in range (q):\n",
        "    a,b,c,d = map (int,input().split())\n",
        "    if  Hash[b] - Hash[a-1] == Hash[d] -Hash[c-1]:\n",
        "        ans.append(\"YES\")\n",
        "    else:\n",
        "        ans.append(\"NO\")\n",
        "\n",
        "print (\"\\n\".join(ans))\n"
      ],
      "execution_count": null,
      "outputs": [
        {
          "output_type": "stream",
          "text": [
            "abcbacaac\n",
            "2\n",
            "1 3 4 6\n",
            "1 3 5 7\n",
            "YES\n",
            "NO\n"
          ],
          "name": "stdout"
        }
      ]
    },
    {
      "cell_type": "markdown",
      "metadata": {
        "id": "iG1jZvb6aimx"
      },
      "source": [
        "### **Kết quả wecode**\n",
        "\n",
        "![alt text](https://i.imgur.com/hJVXNS0.png \"Logo Title Text 1\")\n"
      ]
    }
  ]
}